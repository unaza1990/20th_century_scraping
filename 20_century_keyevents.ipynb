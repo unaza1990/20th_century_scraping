{
 "cells": [
  {
   "cell_type": "code",
   "execution_count": 6,
   "id": "002b3898-54b3-4ea8-a3f2-3912d4f1fdef",
   "metadata": {},
   "outputs": [],
   "source": [
    "import pandas as pd\n",
    "import time\n",
    "from selenium import webdriver\n",
    "from webdriver_manager.chrome import ChromeDriverManager\n",
    "from selenium.webdriver.common.by import By\n",
    "from selenium.webdriver.chrome.service import Service\n",
    "from selenium.webdriver.chrome.options import Options\n",
    "import matplotlib.pyplot as plt\n",
    "import os\n",
    "import logging\n",
    "import requests\n",
    "import bs4\n",
    "from selenium.webdriver.support.ui import WebDriverWait\n",
    "from selenium.webdriver.support import expected_conditions as EC\n"
   ]
  },
  {
   "cell_type": "code",
   "execution_count": 7,
   "id": "975db7ef-7742-4d54-8394-6dd1ddbc600a",
   "metadata": {},
   "outputs": [],
   "source": [
    "# Launch the browser\n",
    "driver = webdriver.Chrome()\n",
    "driver.get(\"https://en.wikipedia.org/wiki/Key_events_of_the_20th_century\")"
   ]
  },
  {
   "cell_type": "code",
   "execution_count": 8,
   "id": "aee7a232-7519-4212-b2ea-ebff2c4dc048",
   "metadata": {},
   "outputs": [
    {
     "data": {
      "text/plain": [
       "<selenium.webdriver.remote.webelement.WebElement (session=\"ab288c171be6f47ee9e21a538cd94f26\", element=\"f.A49E86F078E143075D5C4EE2647B18E0.d.1F6042AEE0D25DB3798D767C03062953.e.95\")>"
      ]
     },
     "execution_count": 8,
     "metadata": {},
     "output_type": "execute_result"
    }
   ],
   "source": [
    "WebDriverWait(driver, 20).until(\n",
    "    EC.presence_of_element_located((By.CLASS_NAME, \"mw-heading4\"))\n",
    ")\n"
   ]
  },
  {
   "cell_type": "code",
   "execution_count": 9,
   "id": "33abc82b-8f2e-43a2-b310-5eec3589c804",
   "metadata": {},
   "outputs": [
    {
     "name": "stdout",
     "output_type": "stream",
     "text": [
      "\"The war to end all wars\": World War I (1914–1918)[edit]\n",
      "Russian Revolution and communism[edit]\n",
      "Economic depression[edit]\n",
      "The rise of dictatorship[edit]\n",
      "The war in Europe[edit]\n"
     ]
    }
   ],
   "source": [
    "# Find all year/event headings\n",
    "year_elems = driver.find_elements(By.CLASS_NAME, \"mw-heading4\")\n",
    "\n",
    "# Preview the first few\n",
    "for i in range(5):  # Adjust as needed\n",
    "    print(year_elems[i].text)"
   ]
  },
  {
   "cell_type": "code",
   "execution_count": 10,
   "id": "7f872107-6f45-4738-b02c-1e0ba4f26746",
   "metadata": {},
   "outputs": [
    {
     "name": "stdout",
     "output_type": "stream",
     "text": [
      "\n",
      "\n",
      "The 20th century changed the world in unprecedented ways. The World Wars sparked tension between countries and led to the creation of atomic bombs, the Cold War led to the Space Race and the creation of space-based rockets, and the World Wide Web was created. These advancements have played a significant role in citizens' lives and shaped the 21st century into what it is today.\n",
      "The new beginning of the 20th century marked significant changes. The 1900s saw the decade herald a series of inventions, including the automobile, airplane and radio broadcasting. 1914 saw the completion of the Panama Canal.\n",
      "The Scramble for Africa continued in the 1900s and resulted in wars and genocide across the continent. The atrocities in the Congo Free State shocked the civilized world.\n"
     ]
    }
   ],
   "source": [
    "paragraphs = driver.find_elements(By.TAG_NAME, \"p\")\n",
    "for p in paragraphs[:5]:\n",
    "    print(p.text)\n"
   ]
  },
  {
   "cell_type": "code",
   "execution_count": 11,
   "id": "cf945003-78f0-4a48-bb13-64aea631796a",
   "metadata": {},
   "outputs": [
    {
     "name": "stdout",
     "output_type": "stream",
     "text": [
      "\n",
      "\n",
      "\n",
      "\n",
      "\n"
     ]
    }
   ],
   "source": [
    "bullets = driver.find_elements(By.TAG_NAME, \"li\")\n",
    "for item in bullets[:5]:\n",
    "    print(item.text)\n"
   ]
  },
  {
   "cell_type": "code",
   "execution_count": 13,
   "id": "6e7c50e4-64f1-4304-aa3f-799eae7d4936",
   "metadata": {},
   "outputs": [
    {
     "name": "stdout",
     "output_type": "stream",
     "text": [
      "{'19', '20'}\n"
     ]
    }
   ],
   "source": [
    "import re\n",
    "\n",
    "years = []\n",
    "for p in paragraphs:\n",
    "    found_years = re.findall(r\"\\b(19|20)\\d{2}\\b\", p.text)\n",
    "    years.extend(found_years)\n",
    "\n",
    "print(set(years))  # Unique years\n"
   ]
  },
  {
   "cell_type": "code",
   "execution_count": 14,
   "id": "78038622-4449-495f-8348-8cd76a79ddf3",
   "metadata": {},
   "outputs": [
    {
     "name": "stdout",
     "output_type": "stream",
     "text": [
      "https://en.wikipedia.org/wiki/Key_events_of_the_20th_century#bodyContent\n",
      "https://en.wikipedia.org/wiki/Main_Page\n",
      "https://en.wikipedia.org/wiki/Wikipedia:Contents\n",
      "https://en.wikipedia.org/wiki/Portal:Current_events\n",
      "https://en.wikipedia.org/wiki/Special:Random\n"
     ]
    }
   ],
   "source": [
    "links = driver.find_elements(By.TAG_NAME, \"a\")\n",
    "for link in links[:5]:\n",
    "    print(link.get_attribute(\"href\"))\n"
   ]
  },
  {
   "cell_type": "code",
   "execution_count": 15,
   "id": "d745bfcb-2cc5-4eaf-932a-7a6f010edbe8",
   "metadata": {},
   "outputs": [
    {
     "name": "stdout",
     "output_type": "stream",
     "text": [
      "https://en.wikipedia.org/static/images/icons/wikipedia.png\n",
      "https://en.wikipedia.org/static/images/mobile/copyright/wikipedia-wordmark-en.svg\n",
      "https://en.wikipedia.org/static/images/mobile/copyright/wikipedia-tagline-en.svg\n",
      "https://upload.wikimedia.org/wikipedia/commons/1/13/Los_Angeles_Wikimedians_User_Group.png\n",
      "https://upload.wikimedia.org/wikipedia/commons/thumb/8/85/Ferdinand_Behr_arrested_in_Sarajevo_1914.jpg/250px-Ferdinand_Behr_arrested_in_Sarajevo_1914.jpg\n"
     ]
    }
   ],
   "source": [
    "images = driver.find_elements(By.TAG_NAME, \"img\")\n",
    "for img in images[:5]:\n",
    "    print(img.get_attribute(\"src\"))\n"
   ]
  },
  {
   "cell_type": "code",
   "execution_count": 17,
   "id": "2369bc94-cfa6-4df4-b406-48cd98f45317",
   "metadata": {},
   "outputs": [
    {
     "data": {
      "text/html": [
       "<img src=\"https://upload.wikimedia.org/wikipedia/commons/1/13/Los_Angeles_Wikimedians_User_Group.png\"/>"
      ],
      "text/plain": [
       "<IPython.core.display.Image object>"
      ]
     },
     "metadata": {},
     "output_type": "display_data"
    },
    {
     "data": {
      "text/html": [
       "<img src=\"https://upload.wikimedia.org/wikipedia/commons/thumb/8/85/Ferdinand_Behr_arrested_in_Sarajevo_1914.jpg/250px-Ferdinand_Behr_arrested_in_Sarajevo_1914.jpg\"/>"
      ],
      "text/plain": [
       "<IPython.core.display.Image object>"
      ]
     },
     "metadata": {},
     "output_type": "display_data"
    },
    {
     "data": {
      "text/html": [
       "<img src=\"https://upload.wikimedia.org/wikipedia/commons/thumb/5/50/Dissolution_of_Austria-Hungary.png/250px-Dissolution_of_Austria-Hungary.png\"/>"
      ],
      "text/plain": [
       "<IPython.core.display.Image object>"
      ]
     },
     "metadata": {},
     "output_type": "display_data"
    },
    {
     "data": {
      "text/html": [
       "<img src=\"https://upload.wikimedia.org/wikipedia/commons/thumb/5/54/Lange-MigrantMother02.jpg/250px-Lange-MigrantMother02.jpg\"/>"
      ],
      "text/plain": [
       "<IPython.core.display.Image object>"
      ]
     },
     "metadata": {},
     "output_type": "display_data"
    },
    {
     "data": {
      "text/html": [
       "<img src=\"https://upload.wikimedia.org/wikipedia/commons/thumb/8/84/Bundesarchiv_Bild_102-14468%2C_Berlin%2C_NS-Boykott_gegen_j%C3%BCdische_Gesch%C3%A4fte_crop.jpg/250px-Bundesarchiv_Bild_102-14468%2C_Berlin%2C_NS-Boykott_gegen_j%C3%BCdische_Gesch%C3%A4fte_crop.jpg\"/>"
      ],
      "text/plain": [
       "<IPython.core.display.Image object>"
      ]
     },
     "metadata": {},
     "output_type": "display_data"
    },
    {
     "data": {
      "text/html": [
       "<img src=\"https://upload.wikimedia.org/wikipedia/commons/thumb/4/4c/MolotovRibbentropStalin.jpg/250px-MolotovRibbentropStalin.jpg\"/>"
      ],
      "text/plain": [
       "<IPython.core.display.Image object>"
      ]
     },
     "metadata": {},
     "output_type": "display_data"
    },
    {
     "data": {
      "text/html": [
       "<img src=\"https://upload.wikimedia.org/wikipedia/commons/thumb/8/82/Heinkel_He_111_during_the_Battle_of_Britain.jpg/250px-Heinkel_He_111_during_the_Battle_of_Britain.jpg\"/>"
      ],
      "text/plain": [
       "<IPython.core.display.Image object>"
      ]
     },
     "metadata": {},
     "output_type": "display_data"
    },
    {
     "data": {
      "text/html": [
       "<img src=\"https://upload.wikimedia.org/wikipedia/commons/thumb/4/4d/World_War_II_in_Europe%2C_1942.svg/250px-World_War_II_in_Europe%2C_1942.svg.png\"/>"
      ],
      "text/plain": [
       "<IPython.core.display.Image object>"
      ]
     },
     "metadata": {},
     "output_type": "display_data"
    },
    {
     "data": {
      "text/html": [
       "<img src=\"https://upload.wikimedia.org/wikipedia/commons/thumb/0/0d/A_British_soldier_gives_a_V-for-Victory_sign_to_German_prisoners_captured_at_El_Alamein%2C_26_October_1942._E18522.jpg/250px-A_British_soldier_gives_a_V-for-Victory_sign_to_German_prisoners_captured_at_El_Alamein%2C_26_October_1942._E18522.jpg\"/>"
      ],
      "text/plain": [
       "<IPython.core.display.Image object>"
      ]
     },
     "metadata": {},
     "output_type": "display_data"
    },
    {
     "data": {
      "text/html": [
       "<img src=\"https://upload.wikimedia.org/wikipedia/commons/thumb/9/96/Approaching_Omaha.jpg/250px-Approaching_Omaha.jpg\"/>"
      ],
      "text/plain": [
       "<IPython.core.display.Image object>"
      ]
     },
     "metadata": {},
     "output_type": "display_data"
    },
    {
     "data": {
      "text/html": [
       "<img src=\"https://upload.wikimedia.org/wikipedia/commons/thumb/0/01/USS_West_Virginia2.jpg/250px-USS_West_Virginia2.jpg\"/>"
      ],
      "text/plain": [
       "<IPython.core.display.Image object>"
      ]
     },
     "metadata": {},
     "output_type": "display_data"
    },
    {
     "data": {
      "text/html": [
       "<img src=\"https://upload.wikimedia.org/wikipedia/commons/thumb/5/52/Second_world_war_asia_1937-1942_map_en6.png/250px-Second_world_war_asia_1937-1942_map_en6.png\"/>"
      ],
      "text/plain": [
       "<IPython.core.display.Image object>"
      ]
     },
     "metadata": {},
     "output_type": "display_data"
    },
    {
     "data": {
      "text/html": [
       "<img src=\"https://upload.wikimedia.org/wikipedia/commons/thumb/7/70/B-29_Enola_Gay_w_Crews.jpg/250px-B-29_Enola_Gay_w_Crews.jpg\"/>"
      ],
      "text/plain": [
       "<IPython.core.display.Image object>"
      ]
     },
     "metadata": {},
     "output_type": "display_data"
    },
    {
     "data": {
      "text/html": [
       "<img src=\"https://upload.wikimedia.org/wikipedia/commons/thumb/d/dc/Buchenwald_Slave_Laborers_Liberation.jpg/250px-Buchenwald_Slave_Laborers_Liberation.jpg\"/>"
      ],
      "text/plain": [
       "<IPython.core.display.Image object>"
      ]
     },
     "metadata": {},
     "output_type": "display_data"
    },
    {
     "data": {
      "text/html": [
       "<img src=\"https://upload.wikimedia.org/wikipedia/commons/thumb/7/78/Trinity_Test_Fireball_16ms.jpg/250px-Trinity_Test_Fireball_16ms.jpg\"/>"
      ],
      "text/plain": [
       "<IPython.core.display.Image object>"
      ]
     },
     "metadata": {},
     "output_type": "display_data"
    },
    {
     "data": {
      "text/html": [
       "<img src=\"https://upload.wikimedia.org/wikipedia/commons/thumb/9/99/Trident_II_missile_image.jpg/250px-Trident_II_missile_image.jpg\"/>"
      ],
      "text/plain": [
       "<IPython.core.display.Image object>"
      ]
     },
     "metadata": {},
     "output_type": "display_data"
    },
    {
     "data": {
      "text/html": [
       "<img src=\"https://upload.wikimedia.org/wikipedia/commons/thumb/1/1b/Somare%2C_Michael_%282008%29.jpg/250px-Somare%2C_Michael_%282008%29.jpg\"/>"
      ],
      "text/plain": [
       "<IPython.core.display.Image object>"
      ]
     },
     "metadata": {},
     "output_type": "display_data"
    },
    {
     "data": {
      "text/html": [
       "<img src=\"https://upload.wikimedia.org/wikipedia/commons/thumb/7/7b/EasternBloc_BorderChange38-48.svg/250px-EasternBloc_BorderChange38-48.svg.png\"/>"
      ],
      "text/plain": [
       "<IPython.core.display.Image object>"
      ]
     },
     "metadata": {},
     "output_type": "display_data"
    },
    {
     "data": {
      "text/html": [
       "<img src=\"https://upload.wikimedia.org/wikipedia/commons/thumb/d/dd/Buzz_salutes_the_U.S._Flag.jpg/250px-Buzz_salutes_the_U.S._Flag.jpg\"/>"
      ],
      "text/plain": [
       "<IPython.core.display.Image object>"
      ]
     },
     "metadata": {},
     "output_type": "display_data"
    },
    {
     "data": {
      "text/html": [
       "<img src=\"https://upload.wikimedia.org/wikipedia/commons/thumb/1/1c/West_and_East_Germans_at_the_Brandenburg_Gate_in_1989.jpg/250px-West_and_East_Germans_at_the_Brandenburg_Gate_in_1989.jpg\"/>"
      ],
      "text/plain": [
       "<IPython.core.display.Image object>"
      ]
     },
     "metadata": {},
     "output_type": "display_data"
    },
    {
     "data": {
      "text/html": [
       "<img src=\"https://upload.wikimedia.org/wikipedia/commons/thumb/4/4b/Colossus.jpg/250px-Colossus.jpg\"/>"
      ],
      "text/plain": [
       "<IPython.core.display.Image object>"
      ]
     },
     "metadata": {},
     "output_type": "display_data"
    },
    {
     "data": {
      "text/html": [
       "<img src=\"https://upload.wikimedia.org/wikipedia/commons/thumb/6/69/IBM_PC_5150.jpg/250px-IBM_PC_5150.jpg\"/>"
      ],
      "text/plain": [
       "<IPython.core.display.Image object>"
      ]
     },
     "metadata": {},
     "output_type": "display_data"
    },
    {
     "data": {
      "text/html": [
       "<img src=\"https://upload.wikimedia.org/wikipedia/commons/thumb/a/ad/Global_Warming_Predictions_Map.jpg/330px-Global_Warming_Predictions_Map.jpg\"/>"
      ],
      "text/plain": [
       "<IPython.core.display.Image object>"
      ]
     },
     "metadata": {},
     "output_type": "display_data"
    }
   ],
   "source": [
    "from IPython.display import Image, display\n",
    "\n",
    "# Show top 5 images that are not icons or logos (optional filter)\n",
    "for img in images:\n",
    "    src = img.get_attribute(\"src\")\n",
    "    if src and src.endswith((\".jpg\", \".jpeg\", \".png\")) and \"commons\" in src:\n",
    "        display(Image(url=src))\n"
   ]
  },
  {
   "cell_type": "code",
   "execution_count": 18,
   "id": "c2c16344-7b25-4864-80e6-b415a8b4fbc9",
   "metadata": {},
   "outputs": [
    {
     "name": "stdout",
     "output_type": "stream",
     "text": [
      "✅ File saved as '20th_century_scrape.txt'\n"
     ]
    }
   ],
   "source": [
    "# Combine scraped data\n",
    "output = []\n",
    "\n",
    "# Headings (h4)\n",
    "headings = driver.find_elements(By.CLASS_NAME, \"mw-heading4\")\n",
    "output.append(\"== Headings ==\")\n",
    "for h in headings:\n",
    "    output.append(h.text)\n",
    "\n",
    "# Paragraphs (p)\n",
    "paragraphs = driver.find_elements(By.TAG_NAME, \"p\")\n",
    "output.append(\"\\n== Paragraphs ==\")\n",
    "for p in paragraphs[:5]:  # Only taking top 5 for now\n",
    "    output.append(p.text)\n",
    "\n",
    "\n",
    "# Image URLs\n",
    "images = driver.find_elements(By.TAG_NAME, \"img\")\n",
    "output.append(\"\\n== Image Links ==\")\n",
    "for img in images[:5]:  # Only top 5\n",
    "    src = img.get_attribute(\"src\")\n",
    "    if src:\n",
    "        output.append(src)\n",
    "\n",
    "# Save all to a text file\n",
    "with open(\"20th_century_scrape.txt\", \"w\", encoding=\"utf-8\") as f:\n",
    "    for line in output:\n",
    "        f.write(line + \"\\n\")\n",
    "\n",
    "print(\"✅ File saved as '20th_century_scrape.txt'\")\n"
   ]
  },
  {
   "cell_type": "code",
   "execution_count": null,
   "id": "a95eaf13-c816-4301-9ad7-ecb2ff86ed64",
   "metadata": {},
   "outputs": [],
   "source": []
  }
 ],
 "metadata": {
  "kernelspec": {
   "display_name": "20th_century",
   "language": "python",
   "name": "20th_century"
  },
  "language_info": {
   "codemirror_mode": {
    "name": "ipython",
    "version": 3
   },
   "file_extension": ".py",
   "mimetype": "text/x-python",
   "name": "python",
   "nbconvert_exporter": "python",
   "pygments_lexer": "ipython3",
   "version": "3.10.18"
  }
 },
 "nbformat": 4,
 "nbformat_minor": 5
}
