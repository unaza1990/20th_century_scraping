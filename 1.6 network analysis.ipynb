{
 "cells": [
  {
   "cell_type": "markdown",
   "id": "f729c414-79ba-460f-93e9-9514f5d57046",
   "metadata": {},
   "source": [
    "## Step 1: Import Required Libraries\n",
    "\n",
    "In this step, I imported all the necessary Python libraries required for the text mining and Named Entity Recognition (NER) process:\n",
    "\n",
    "- `pandas` and `numpy` – for data manipulation and array handling  \n",
    "- `spacy` – for tokenization, part-of-speech tagging, and named entity recognition  \n",
    "- `networkx` – for potential network graph analysis  \n",
    "- `matplotlib.pyplot` – for future visualizations  \n",
    "- `scipy` – for scientific computations  \n",
    "- `os` and `re` – for file handling and regular expressions\n"
   ]
  },
  {
   "cell_type": "code",
   "execution_count": 2,
   "id": "2b9a7cf5-11e9-4ac4-83d3-5f8cce41fb72",
   "metadata": {},
   "outputs": [],
   "source": [
    "# Importing all required libraries\n",
    "import pandas as pd \n",
    "import numpy as np\n",
    "import spacy\n",
    "from spacy import displacy\n",
    "import networkx as nx\n",
    "import os\n",
    "import matplotlib.pyplot as plt\n",
    "import scipy\n",
    "import re\n",
    "\n",
    "# Load spaCy English model\n",
    "NER = spacy.load(\"en_core_web_sm\")\n"
   ]
  },
  {
   "cell_type": "markdown",
   "id": "8ebd7491-1a63-417d-bf8e-10d1ea7ef692",
   "metadata": {},
   "source": [
    "## Step 2: Load the Twentieth-Century Text File\n",
    "\n",
    "In this step, I loaded the cleaned 20th-century historical text file that was prepared in Exercise 1.4. This text contains major events throughout the 20th century and will be used for Named Entity Recognition (NER) and further analysis.\n",
    "\n",
    "The file is read using Python’s built-in `open()` function, and the contents are stored in a string variable for processing.\n"
   ]
  },
  {
   "cell_type": "code",
   "execution_count": 5,
   "id": "ade3f678-fc44-4a03-a263-a8d09feb9720",
   "metadata": {},
   "outputs": [
    {
     "name": "stdout",
     "output_type": "stream",
     "text": [
      "The 20th century changed the world in unprecedented ways.\n",
      "The World Wars sparked tension between countries and led to the creation of atomic bombs, the Cold War led to the Space Race and the creation of space-based rockets, and the World Wide Web was created.\n",
      "These advancements have played a significant role in citizens' lives and shaped the 21st century into what it is today.\n",
      "The new beginning of the 20th century marked significant changes.\n",
      "The 1900s saw the decade herald a series of inventions, including the automobile, airplane and radio broadcasting.\n",
      "1914 saw the completion of the Panama Canal.\n",
      "The Scramble for Africa continued in the 1900s and resulted in wars and genocide across the continent.\n",
      "The atrocities in the Congo Free State shocked the civilized world.\n",
      "From 1914 to 1918, the First World War, and its aftermath, caused major changes in the power balance of the world, destroying or transforming some of the most powerful empires.\n",
      "The First World War (or simply WWI), termed \"T\n"
     ]
    }
   ],
   "source": [
    "# Load the 20th century text file\n",
    "with open('/Users/muhammaddildar/Desktop/20th_century_scraping/20th_century_scrape.txt', 'r', encoding='utf-8') as file:\n",
    "    text = file.read()\n",
    "\n",
    "# Quick preview\n",
    "print(text[:1000])\n"
   ]
  },
  {
   "cell_type": "markdown",
   "id": "4d5b3f56-ce09-4e68-93a1-971008ade35f",
   "metadata": {},
   "source": [
    "## Step 3: Evaluate and Wrangle the Text\n",
    "\n",
    "In this step, I evaluated the raw 20th-century text to determine whether any cleaning or wrangling was needed before applying Named Entity Recognition (NER). Specifically, I looked for:\n",
    "\n",
    "- Special or non-ASCII characters  \n",
    "- Inconsistent spacing, dashes, or symbols  \n",
    "- Formatting issues that could affect entity extraction  \n",
    "- Mismatches between country names in the text and those in my provided `countries_list.txt`\n",
    "\n",
    "### Observations:\n",
    "- The text had already been cleaned in Exercise 1.4 and did not contain any unusual symbols or unreadable characters.\n",
    "- Country names in the text appeared in full form (e.g., “United States” rather than “USA”), which matched the format in `countries_list.txt`.\n",
    "- No further cleaning was necessary, so I proceeded directly to creating the NER object using spaCy.\n",
    "\n",
    "Since no additional wrangling was needed, the original file was used as-is without generating a new `.txt` file.\n"
   ]
  },
  {
   "cell_type": "markdown",
   "id": "f310af63-13d2-49d2-afbf-0c26391f3dce",
   "metadata": {},
   "source": [
    "## Step 4: Run Named Entity Recognition (NER) on the Text\n",
    "\n",
    "Now that the text is clean and loaded, I applied spaCy’s `en_core_web_sm` model to perform Named Entity Recognition (NER).\n",
    "\n",
    "This identifies important entities such as:\n",
    "- Countries and cities (GPE)\n",
    "- People, organizations, and events\n",
    "- Dates and numeric values\n",
    "\n",
    "The `doc` object stores all the extracted entity information for each sentence.\n"
   ]
  },
  {
   "cell_type": "code",
   "execution_count": 6,
   "id": "21c797c4-f25a-40c0-9b9a-aea74a99402b",
   "metadata": {},
   "outputs": [
    {
     "name": "stdout",
     "output_type": "stream",
     "text": [
      "The 20th century | DATE\n",
      "The World Wars | WORK_OF_ART\n",
      "the Cold War | EVENT\n",
      "the Space Race | ORG\n",
      "the World Wide Web | EVENT\n",
      "the 21st century | DATE\n",
      "today | DATE\n",
      "the 20th century | DATE\n",
      "The 1900s | DATE\n",
      "the decade | DATE\n"
     ]
    }
   ],
   "source": [
    "# Load spaCy model\n",
    "import spacy\n",
    "\n",
    "nlp = spacy.load(\"en_core_web_sm\")\n",
    "\n",
    "# Apply NLP pipeline to the text\n",
    "doc = nlp(raw_text)\n",
    "\n",
    "# Preview a few extracted entities\n",
    "for ent in doc.ents[:10]:\n",
    "    print(ent.text, \"|\", ent.label_)"
   ]
  },
  {
   "cell_type": "markdown",
   "id": "2ee3d7a9-95b2-4b94-b791-6802058f9141",
   "metadata": {},
   "source": [
    "## Step 5: Extract Sentences and GPE Entities\n",
    "\n",
    "In this step, I created a list of sentence-entity pairs using spaCy's `doc.sents`. I then filtered those sentences to include only the ones that contain GPE entities (i.e., countries, cities, or locations).\n"
   ]
  },
  {
   "cell_type": "code",
   "execution_count": 8,
   "id": "6434965e-37be-442a-b13a-8d82210a3dc3",
   "metadata": {},
   "outputs": [
    {
     "name": "stdout",
     "output_type": "stream",
     "text": [
      "(\"The war was precipitated by the Assassination in Sarajevo of the Austro-Hungarian Empire's heir to the throne, Erzherzog Franz Ferdinand, by Gavrilo Princip, a member of the Young Bosnia liberation movement.\", ['Sarajevo'])\n",
      "('After a period of diplomatic and military escalation known as the July Crisis, by the end of July 1914 two coalitions were at war: the Allies, comprised initially of the British Empire, France, and the Russian Empire; and the Central Powers, comprised initially of the German Empire and Austria-Hungary.', ['the British Empire', 'France', 'the Russian Empire', 'the German Empire', 'Austria'])\n",
      "('In 1917, Russia ended hostile actions against the Central Powers after the fall of the Tsar.', ['Russia', 'Tsar'])\n",
      "('The Bolsheviks negotiated the Treaty of Brest-Litovsk with Germany, although it was a huge cost to Russia.', ['Germany', 'Russia'])\n",
      "('In the treaty, Bolshevik Russia ceded the Baltic states to Germany, and its province of Kars Oblast in the South Caucasus to the Ottoman Empire.', ['Germany', 'the Ottoman Empire'])\n"
     ]
    }
   ],
   "source": [
    "# Extract sentences with GPE entities\n",
    "sentences = list(doc.sents)\n",
    "sentence_entities = []\n",
    "\n",
    "for sent in sentences:\n",
    "    gpe_entities = [ent.text for ent in sent.ents if ent.label_ == \"GPE\"]\n",
    "    if gpe_entities:\n",
    "        sentence_entities.append((sent.text.strip(), gpe_entities))\n",
    "\n",
    "# Preview the first 5 results\n",
    "for item in sentence_entities[:5]:\n",
    "    print(item)\n"
   ]
  },
  {
   "cell_type": "markdown",
   "id": "50845318-7412-49cc-9e53-100bbb056668",
   "metadata": {},
   "source": [
    "## Step 6: Filter GPE Entities Using Country List\n",
    "\n",
    "Next, I filtered the extracted GPEs to only include valid country names using a predefined list of countries from `countries_list.txt`.\n",
    "\n",
    "This ensures only country-related relationships are included in the final analysis and avoids unrelated GPEs like cities or regions.\n"
   ]
  },
  {
   "cell_type": "code",
   "execution_count": 9,
   "id": "5be30c05-b3a4-47f8-81c3-5742f26a68ae",
   "metadata": {},
   "outputs": [
    {
     "name": "stdout",
     "output_type": "stream",
     "text": [
      "('After a period of diplomatic and military escalation known as the July Crisis, by the end of July 1914 two coalitions were at war: the Allies, comprised initially of the British Empire, France, and the Russian Empire; and the Central Powers, comprised initially of the German Empire and Austria-Hungary.', ['France', 'Austria'])\n",
      "('In 1917, Russia ended hostile actions against the Central Powers after the fall of the Tsar.', ['Russia'])\n",
      "('The Bolsheviks negotiated the Treaty of Brest-Litovsk with Germany, although it was a huge cost to Russia.', ['Germany', 'Russia'])\n",
      "('In the treaty, Bolshevik Russia ceded the Baltic states to Germany, and its province of Kars Oblast in the South Caucasus to the Ottoman Empire.', ['Germany'])\n",
      "('It also recognized the independence of Ukraine.', ['Ukraine'])\n"
     ]
    }
   ],
   "source": [
    "# Load the list of valid country names\n",
    "with open('/Users/muhammaddildar/Desktop/20th_century_scraping/countries_list.txt', 'r', encoding='utf-8') as f:\n",
    "    country_list = [line.strip() for line in f]\n",
    "\n",
    "# Convert to set for faster lookup\n",
    "country_set = set(country_list)\n",
    "\n",
    "# Filter sentence_entities to keep only GPEs that match country list\n",
    "filtered_entities = []\n",
    "\n",
    "for sentence, gpes in sentence_entities:\n",
    "    matching_countries = [gpe for gpe in gpes if gpe in country_set]\n",
    "    if matching_countries:\n",
    "        filtered_entities.append((sentence, matching_countries))\n",
    "\n",
    "# Preview the first 5 filtered sentence-country pairs\n",
    "for item in filtered_entities[:5]:\n",
    "    print(item)\n"
   ]
  },
  {
   "cell_type": "markdown",
   "id": "54d04738-3b2d-47d7-a5cb-7f1af49af342",
   "metadata": {},
   "source": [
    "## Step 7: Create Relationships DataFrame\n",
    "\n",
    "Using the filtered sentence-country pairs, I created a pandas DataFrame to structure the relationships.\n",
    "\n",
    "Each row contains:\n",
    "- The full sentence\n",
    "- The list of countries mentioned in that sentence\n"
   ]
  },
  {
   "cell_type": "code",
   "execution_count": 11,
   "id": "4c79a2c6-144c-4a7b-82ba-2667f85fa4f3",
   "metadata": {},
   "outputs": [
    {
     "data": {
      "text/html": [
       "<div>\n",
       "<style scoped>\n",
       "    .dataframe tbody tr th:only-of-type {\n",
       "        vertical-align: middle;\n",
       "    }\n",
       "\n",
       "    .dataframe tbody tr th {\n",
       "        vertical-align: top;\n",
       "    }\n",
       "\n",
       "    .dataframe thead th {\n",
       "        text-align: right;\n",
       "    }\n",
       "</style>\n",
       "<table border=\"1\" class=\"dataframe\">\n",
       "  <thead>\n",
       "    <tr style=\"text-align: right;\">\n",
       "      <th></th>\n",
       "      <th>Sentence</th>\n",
       "      <th>Countries</th>\n",
       "    </tr>\n",
       "  </thead>\n",
       "  <tbody>\n",
       "    <tr>\n",
       "      <th>0</th>\n",
       "      <td>After a period of diplomatic and military esca...</td>\n",
       "      <td>[France, Austria]</td>\n",
       "    </tr>\n",
       "    <tr>\n",
       "      <th>1</th>\n",
       "      <td>In 1917, Russia ended hostile actions against ...</td>\n",
       "      <td>[Russia]</td>\n",
       "    </tr>\n",
       "    <tr>\n",
       "      <th>2</th>\n",
       "      <td>The Bolsheviks negotiated the Treaty of Brest-...</td>\n",
       "      <td>[Germany, Russia]</td>\n",
       "    </tr>\n",
       "    <tr>\n",
       "      <th>3</th>\n",
       "      <td>In the treaty, Bolshevik Russia ceded the Balt...</td>\n",
       "      <td>[Germany]</td>\n",
       "    </tr>\n",
       "    <tr>\n",
       "      <th>4</th>\n",
       "      <td>It also recognized the independence of Ukraine.</td>\n",
       "      <td>[Ukraine]</td>\n",
       "    </tr>\n",
       "    <tr>\n",
       "      <th>...</th>\n",
       "      <td>...</td>\n",
       "      <td>...</td>\n",
       "    </tr>\n",
       "    <tr>\n",
       "      <th>109</th>\n",
       "      <td>China, an ancient nation comprising a fifth of...</td>\n",
       "      <td>[China]</td>\n",
       "    </tr>\n",
       "    <tr>\n",
       "      <th>110</th>\n",
       "      <td>The influence of China and India was also risi...</td>\n",
       "      <td>[China, India]</td>\n",
       "    </tr>\n",
       "    <tr>\n",
       "      <th>111</th>\n",
       "      <td>Meanwhile in South Africa, the apartheid came ...</td>\n",
       "      <td>[South Africa]</td>\n",
       "    </tr>\n",
       "    <tr>\n",
       "      <th>112</th>\n",
       "      <td>In Rwanda, an estimated one million people wer...</td>\n",
       "      <td>[Rwanda]</td>\n",
       "    </tr>\n",
       "    <tr>\n",
       "      <th>113</th>\n",
       "      <td>Despots such as Kim Jong-il of North Korea con...</td>\n",
       "      <td>[North Korea]</td>\n",
       "    </tr>\n",
       "  </tbody>\n",
       "</table>\n",
       "<p>114 rows × 2 columns</p>\n",
       "</div>"
      ],
      "text/plain": [
       "                                              Sentence          Countries\n",
       "0    After a period of diplomatic and military esca...  [France, Austria]\n",
       "1    In 1917, Russia ended hostile actions against ...           [Russia]\n",
       "2    The Bolsheviks negotiated the Treaty of Brest-...  [Germany, Russia]\n",
       "3    In the treaty, Bolshevik Russia ceded the Balt...          [Germany]\n",
       "4      It also recognized the independence of Ukraine.          [Ukraine]\n",
       "..                                                 ...                ...\n",
       "109  China, an ancient nation comprising a fifth of...            [China]\n",
       "110  The influence of China and India was also risi...     [China, India]\n",
       "111  Meanwhile in South Africa, the apartheid came ...     [South Africa]\n",
       "112  In Rwanda, an estimated one million people wer...           [Rwanda]\n",
       "113  Despots such as Kim Jong-il of North Korea con...      [North Korea]\n",
       "\n",
       "[114 rows x 2 columns]"
      ]
     },
     "execution_count": 11,
     "metadata": {},
     "output_type": "execute_result"
    }
   ],
   "source": [
    "import pandas as pd\n",
    "\n",
    "# Create DataFrame\n",
    "relationships_df = pd.DataFrame(filtered_entities, columns=['Sentence', 'Countries'])\n",
    "\n",
    "# Preview the first 5 rows\n",
    "relationships_df\n"
   ]
  },
  {
   "cell_type": "markdown",
   "id": "83b866aa-d7be-456c-b989-d01a25822a09",
   "metadata": {},
   "source": [
    "## Step 8: Export the Relationships DataFrame\n",
    "\n",
    "After creating the final relationships DataFrame, I exported it as a CSV file for backup and future analysis.\n"
   ]
  },
  {
   "cell_type": "code",
   "execution_count": 12,
   "id": "86d6fdac-0cb6-491f-bab8-8ad014a534cb",
   "metadata": {},
   "outputs": [
    {
     "name": "stdout",
     "output_type": "stream",
     "text": [
      "✅ File exported successfully.\n"
     ]
    }
   ],
   "source": [
    "# Export to CSV\n",
    "relationships_df.to_csv('/Users/muhammaddildar/Desktop/20th_century_scraping/relationships_dataframe.csv', index=False)\n",
    "\n",
    "print(\"✅ File exported successfully.\")\n"
   ]
  },
  {
   "cell_type": "markdown",
   "id": "856a6dab-102c-4ed2-bdc3-19f8563af7d4",
   "metadata": {},
   "source": [
    "## Step 9: Save and Submit Notebook\n",
    "\n",
    "To complete the task:\n",
    "- I saved this Jupyter notebook (.ipynb)\n",
    "- Downloaded it along with the CSV file\n",
    "- Pushed both files to my GitHub repository\n",
    "- Shared the link with my mentor for review\n"
   ]
  },
  {
   "cell_type": "code",
   "execution_count": null,
   "id": "95d193cc-3d5f-4863-b731-cc754761f465",
   "metadata": {},
   "outputs": [],
   "source": []
  }
 ],
 "metadata": {
  "kernelspec": {
   "display_name": "20th_century",
   "language": "python",
   "name": "20th_century"
  },
  "language_info": {
   "codemirror_mode": {
    "name": "ipython",
    "version": 3
   },
   "file_extension": ".py",
   "mimetype": "text/x-python",
   "name": "python",
   "nbconvert_exporter": "python",
   "pygments_lexer": "ipython3",
   "version": "3.10.18"
  }
 },
 "nbformat": 4,
 "nbformat_minor": 5
}
