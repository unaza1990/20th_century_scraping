{
 "cells": [
  {
   "cell_type": "markdown",
   "id": "50965603-7433-4b98-b543-a3de81eab58a",
   "metadata": {},
   "source": [
    "## 📚 Imported Libraries"
   ]
  },
  {
   "cell_type": "code",
   "execution_count": 1,
   "id": "002b3898-54b3-4ea8-a3f2-3912d4f1fdef",
   "metadata": {},
   "outputs": [],
   "source": [
    "import pandas as pd\n",
    "import time\n",
    "from selenium import webdriver\n",
    "from webdriver_manager.chrome import ChromeDriverManager\n",
    "from selenium.webdriver.common.by import By\n",
    "from selenium.webdriver.chrome.service import Service\n",
    "from selenium.webdriver.chrome.options import Options\n",
    "import matplotlib.pyplot as plt\n",
    "import os\n",
    "import logging\n",
    "import requests\n",
    "import bs4\n",
    "from selenium.webdriver.support.ui import WebDriverWait\n",
    "from selenium.webdriver.support import expected_conditions as EC\n"
   ]
  },
  {
   "cell_type": "code",
   "execution_count": 2,
   "id": "975db7ef-7742-4d54-8394-6dd1ddbc600a",
   "metadata": {},
   "outputs": [],
   "source": [
    "# Launch the browser\n",
    "driver = webdriver.Chrome()\n",
    "driver.get(\"https://en.wikipedia.org/wiki/Key_events_of_the_20th_century\")"
   ]
  },
  {
   "cell_type": "code",
   "execution_count": 3,
   "id": "aee7a232-7519-4212-b2ea-ebff2c4dc048",
   "metadata": {},
   "outputs": [
    {
     "data": {
      "text/plain": [
       "<selenium.webdriver.remote.webelement.WebElement (session=\"2088b1ee5025e46d94a9483d3083ec19\", element=\"f.C4878FB9701FDED1FCB2E33687AE0548.d.6DB2A5C971AF56B87E39F89EDFF7293C.e.114\")>"
      ]
     },
     "execution_count": 3,
     "metadata": {},
     "output_type": "execute_result"
    }
   ],
   "source": [
    "WebDriverWait(driver, 20).until(\n",
    "    EC.presence_of_element_located((By.CLASS_NAME, \"mw-heading4\"))\n",
    ")\n"
   ]
  },
  {
   "cell_type": "code",
   "execution_count": 4,
   "id": "33abc82b-8f2e-43a2-b310-5eec3589c804",
   "metadata": {},
   "outputs": [
    {
     "name": "stdout",
     "output_type": "stream",
     "text": [
      "\"The war to end all wars\": World War I (1914–1918)[edit]\n",
      "Russian Revolution and communism[edit]\n",
      "Economic depression[edit]\n",
      "The rise of dictatorship[edit]\n",
      "The war in Europe[edit]\n"
     ]
    }
   ],
   "source": [
    "# Find all year/event headings\n",
    "year_elems = driver.find_elements(By.CLASS_NAME, \"mw-heading4\")\n",
    "\n",
    "# Preview the first few\n",
    "for i in range(5):  # Adjust as needed\n",
    "    print(year_elems[i].text)"
   ]
  },
  {
   "cell_type": "code",
   "execution_count": 5,
   "id": "7f872107-6f45-4738-b02c-1e0ba4f26746",
   "metadata": {},
   "outputs": [
    {
     "name": "stdout",
     "output_type": "stream",
     "text": [
      "Scraping complete and file saved.\n"
     ]
    }
   ],
   "source": [
    "# Find the main article container\n",
    "article = driver.find_element(By.ID, \"mw-content-text\")\n",
    "\n",
    "# Then extract only paragraph tags inside the main content\n",
    "paragraphs = article.find_elements(By.TAG_NAME, \"p\")\n",
    "\n",
    "# Combine all paragraph text\n",
    "text = \"\"\n",
    "for p in paragraphs:\n",
    "    text += p.text + \"\\n\"\n",
    "\n",
    "# Save it to a clean .txt file\n",
    "with open(\"20th_century_events.txt\", \"w\", encoding=\"utf-8\") as file:\n",
    "    file.write(text)\n",
    "\n",
    "print(\"Scraping complete and file saved.\")\n",
    "\n"
   ]
  },
  {
   "cell_type": "code",
   "execution_count": 9,
   "id": "6e7c50e4-64f1-4304-aa3f-799eae7d4936",
   "metadata": {},
   "outputs": [
    {
     "name": "stdout",
     "output_type": "stream",
     "text": [
      "{'20', '19'}\n"
     ]
    }
   ],
   "source": [
    "import re\n",
    "\n",
    "years = []\n",
    "for p in paragraphs:\n",
    "    found_years = re.findall(r\"\\b(19|20)\\d{2}\\b\", p.text)\n",
    "    years.extend(found_years)\n",
    "\n",
    "print(set(years))  # Unique years\n"
   ]
  },
  {
   "cell_type": "code",
   "execution_count": 10,
   "id": "78038622-4449-495f-8348-8cd76a79ddf3",
   "metadata": {},
   "outputs": [
    {
     "name": "stdout",
     "output_type": "stream",
     "text": [
      "https://en.wikipedia.org/wiki/Key_events_of_the_20th_century#bodyContent\n",
      "https://en.wikipedia.org/wiki/Main_Page\n",
      "https://en.wikipedia.org/wiki/Wikipedia:Contents\n",
      "https://en.wikipedia.org/wiki/Portal:Current_events\n",
      "https://en.wikipedia.org/wiki/Special:Random\n"
     ]
    }
   ],
   "source": [
    "links = driver.find_elements(By.TAG_NAME, \"a\")\n",
    "for link in links[:5]:\n",
    "    print(link.get_attribute(\"href\"))\n"
   ]
  },
  {
   "cell_type": "code",
   "execution_count": 11,
   "id": "d745bfcb-2cc5-4eaf-932a-7a6f010edbe8",
   "metadata": {},
   "outputs": [
    {
     "name": "stdout",
     "output_type": "stream",
     "text": [
      "https://en.wikipedia.org/static/images/icons/wikipedia.png\n",
      "https://en.wikipedia.org/static/images/mobile/copyright/wikipedia-wordmark-en.svg\n",
      "https://en.wikipedia.org/static/images/mobile/copyright/wikipedia-tagline-en.svg\n",
      "https://upload.wikimedia.org/wikipedia/commons/thumb/8/85/Ferdinand_Behr_arrested_in_Sarajevo_1914.jpg/250px-Ferdinand_Behr_arrested_in_Sarajevo_1914.jpg\n",
      "https://upload.wikimedia.org/wikipedia/commons/thumb/5/50/Dissolution_of_Austria-Hungary.png/250px-Dissolution_of_Austria-Hungary.png\n"
     ]
    }
   ],
   "source": [
    "images = driver.find_elements(By.TAG_NAME, \"img\")\n",
    "for img in images[:5]:\n",
    "    print(img.get_attribute(\"src\"))\n"
   ]
  },
  {
   "cell_type": "code",
   "execution_count": 12,
   "id": "2369bc94-cfa6-4df4-b406-48cd98f45317",
   "metadata": {},
   "outputs": [
    {
     "data": {
      "text/html": [
       "<img src=\"https://upload.wikimedia.org/wikipedia/commons/thumb/8/85/Ferdinand_Behr_arrested_in_Sarajevo_1914.jpg/250px-Ferdinand_Behr_arrested_in_Sarajevo_1914.jpg\"/>"
      ],
      "text/plain": [
       "<IPython.core.display.Image object>"
      ]
     },
     "metadata": {},
     "output_type": "display_data"
    },
    {
     "data": {
      "text/html": [
       "<img src=\"https://upload.wikimedia.org/wikipedia/commons/thumb/5/50/Dissolution_of_Austria-Hungary.png/250px-Dissolution_of_Austria-Hungary.png\"/>"
      ],
      "text/plain": [
       "<IPython.core.display.Image object>"
      ]
     },
     "metadata": {},
     "output_type": "display_data"
    },
    {
     "data": {
      "text/html": [
       "<img src=\"https://upload.wikimedia.org/wikipedia/commons/thumb/5/54/Lange-MigrantMother02.jpg/250px-Lange-MigrantMother02.jpg\"/>"
      ],
      "text/plain": [
       "<IPython.core.display.Image object>"
      ]
     },
     "metadata": {},
     "output_type": "display_data"
    },
    {
     "data": {
      "text/html": [
       "<img src=\"https://upload.wikimedia.org/wikipedia/commons/thumb/8/84/Bundesarchiv_Bild_102-14468%2C_Berlin%2C_NS-Boykott_gegen_j%C3%BCdische_Gesch%C3%A4fte_crop.jpg/250px-Bundesarchiv_Bild_102-14468%2C_Berlin%2C_NS-Boykott_gegen_j%C3%BCdische_Gesch%C3%A4fte_crop.jpg\"/>"
      ],
      "text/plain": [
       "<IPython.core.display.Image object>"
      ]
     },
     "metadata": {},
     "output_type": "display_data"
    },
    {
     "data": {
      "text/html": [
       "<img src=\"https://upload.wikimedia.org/wikipedia/commons/thumb/4/4c/MolotovRibbentropStalin.jpg/250px-MolotovRibbentropStalin.jpg\"/>"
      ],
      "text/plain": [
       "<IPython.core.display.Image object>"
      ]
     },
     "metadata": {},
     "output_type": "display_data"
    },
    {
     "data": {
      "text/html": [
       "<img src=\"https://upload.wikimedia.org/wikipedia/commons/thumb/8/82/Heinkel_He_111_during_the_Battle_of_Britain.jpg/250px-Heinkel_He_111_during_the_Battle_of_Britain.jpg\"/>"
      ],
      "text/plain": [
       "<IPython.core.display.Image object>"
      ]
     },
     "metadata": {},
     "output_type": "display_data"
    },
    {
     "data": {
      "text/html": [
       "<img src=\"https://upload.wikimedia.org/wikipedia/commons/thumb/4/4d/World_War_II_in_Europe%2C_1942.svg/250px-World_War_II_in_Europe%2C_1942.svg.png\"/>"
      ],
      "text/plain": [
       "<IPython.core.display.Image object>"
      ]
     },
     "metadata": {},
     "output_type": "display_data"
    },
    {
     "data": {
      "text/html": [
       "<img src=\"https://upload.wikimedia.org/wikipedia/commons/thumb/0/0d/A_British_soldier_gives_a_V-for-Victory_sign_to_German_prisoners_captured_at_El_Alamein%2C_26_October_1942._E18522.jpg/250px-A_British_soldier_gives_a_V-for-Victory_sign_to_German_prisoners_captured_at_El_Alamein%2C_26_October_1942._E18522.jpg\"/>"
      ],
      "text/plain": [
       "<IPython.core.display.Image object>"
      ]
     },
     "metadata": {},
     "output_type": "display_data"
    },
    {
     "data": {
      "text/html": [
       "<img src=\"https://upload.wikimedia.org/wikipedia/commons/thumb/9/96/Approaching_Omaha.jpg/250px-Approaching_Omaha.jpg\"/>"
      ],
      "text/plain": [
       "<IPython.core.display.Image object>"
      ]
     },
     "metadata": {},
     "output_type": "display_data"
    },
    {
     "data": {
      "text/html": [
       "<img src=\"https://upload.wikimedia.org/wikipedia/commons/thumb/0/01/USS_West_Virginia2.jpg/250px-USS_West_Virginia2.jpg\"/>"
      ],
      "text/plain": [
       "<IPython.core.display.Image object>"
      ]
     },
     "metadata": {},
     "output_type": "display_data"
    },
    {
     "data": {
      "text/html": [
       "<img src=\"https://upload.wikimedia.org/wikipedia/commons/thumb/5/52/Second_world_war_asia_1937-1942_map_en6.png/250px-Second_world_war_asia_1937-1942_map_en6.png\"/>"
      ],
      "text/plain": [
       "<IPython.core.display.Image object>"
      ]
     },
     "metadata": {},
     "output_type": "display_data"
    },
    {
     "data": {
      "text/html": [
       "<img src=\"https://upload.wikimedia.org/wikipedia/commons/thumb/7/70/B-29_Enola_Gay_w_Crews.jpg/250px-B-29_Enola_Gay_w_Crews.jpg\"/>"
      ],
      "text/plain": [
       "<IPython.core.display.Image object>"
      ]
     },
     "metadata": {},
     "output_type": "display_data"
    },
    {
     "data": {
      "text/html": [
       "<img src=\"https://upload.wikimedia.org/wikipedia/commons/thumb/d/dc/Buchenwald_Slave_Laborers_Liberation.jpg/250px-Buchenwald_Slave_Laborers_Liberation.jpg\"/>"
      ],
      "text/plain": [
       "<IPython.core.display.Image object>"
      ]
     },
     "metadata": {},
     "output_type": "display_data"
    },
    {
     "data": {
      "text/html": [
       "<img src=\"https://upload.wikimedia.org/wikipedia/commons/thumb/7/78/Trinity_Test_Fireball_16ms.jpg/250px-Trinity_Test_Fireball_16ms.jpg\"/>"
      ],
      "text/plain": [
       "<IPython.core.display.Image object>"
      ]
     },
     "metadata": {},
     "output_type": "display_data"
    },
    {
     "data": {
      "text/html": [
       "<img src=\"https://upload.wikimedia.org/wikipedia/commons/thumb/9/99/Trident_II_missile_image.jpg/250px-Trident_II_missile_image.jpg\"/>"
      ],
      "text/plain": [
       "<IPython.core.display.Image object>"
      ]
     },
     "metadata": {},
     "output_type": "display_data"
    },
    {
     "data": {
      "text/html": [
       "<img src=\"https://upload.wikimedia.org/wikipedia/commons/thumb/1/1b/Somare%2C_Michael_%282008%29.jpg/250px-Somare%2C_Michael_%282008%29.jpg\"/>"
      ],
      "text/plain": [
       "<IPython.core.display.Image object>"
      ]
     },
     "metadata": {},
     "output_type": "display_data"
    },
    {
     "data": {
      "text/html": [
       "<img src=\"https://upload.wikimedia.org/wikipedia/commons/thumb/7/7b/EasternBloc_BorderChange38-48.svg/250px-EasternBloc_BorderChange38-48.svg.png\"/>"
      ],
      "text/plain": [
       "<IPython.core.display.Image object>"
      ]
     },
     "metadata": {},
     "output_type": "display_data"
    },
    {
     "data": {
      "text/html": [
       "<img src=\"https://upload.wikimedia.org/wikipedia/commons/thumb/d/dd/Buzz_salutes_the_U.S._Flag.jpg/250px-Buzz_salutes_the_U.S._Flag.jpg\"/>"
      ],
      "text/plain": [
       "<IPython.core.display.Image object>"
      ]
     },
     "metadata": {},
     "output_type": "display_data"
    },
    {
     "data": {
      "text/html": [
       "<img src=\"https://upload.wikimedia.org/wikipedia/commons/thumb/1/1c/West_and_East_Germans_at_the_Brandenburg_Gate_in_1989.jpg/250px-West_and_East_Germans_at_the_Brandenburg_Gate_in_1989.jpg\"/>"
      ],
      "text/plain": [
       "<IPython.core.display.Image object>"
      ]
     },
     "metadata": {},
     "output_type": "display_data"
    },
    {
     "data": {
      "text/html": [
       "<img src=\"https://upload.wikimedia.org/wikipedia/commons/thumb/4/4b/Colossus.jpg/250px-Colossus.jpg\"/>"
      ],
      "text/plain": [
       "<IPython.core.display.Image object>"
      ]
     },
     "metadata": {},
     "output_type": "display_data"
    },
    {
     "data": {
      "text/html": [
       "<img src=\"https://upload.wikimedia.org/wikipedia/commons/thumb/6/69/IBM_PC_5150.jpg/250px-IBM_PC_5150.jpg\"/>"
      ],
      "text/plain": [
       "<IPython.core.display.Image object>"
      ]
     },
     "metadata": {},
     "output_type": "display_data"
    },
    {
     "data": {
      "text/html": [
       "<img src=\"https://upload.wikimedia.org/wikipedia/commons/thumb/a/ad/Global_Warming_Predictions_Map.jpg/330px-Global_Warming_Predictions_Map.jpg\"/>"
      ],
      "text/plain": [
       "<IPython.core.display.Image object>"
      ]
     },
     "metadata": {},
     "output_type": "display_data"
    }
   ],
   "source": [
    "from IPython.display import Image, display\n",
    "\n",
    "# Show top 5 images that are not icons or logos (optional filter)\n",
    "for img in images:\n",
    "    src = img.get_attribute(\"src\")\n",
    "    if src and src.endswith((\".jpg\", \".jpeg\", \".png\")) and \"commons\" in src:\n",
    "        display(Image(url=src))\n"
   ]
  },
  {
   "cell_type": "code",
   "execution_count": 14,
   "id": "c2c16344-7b25-4864-80e6-b415a8b4fbc9",
   "metadata": {},
   "outputs": [
    {
     "name": "stdout",
     "output_type": "stream",
     "text": [
      "✅ File saved as '20th_century_keyevents.txt'\n"
     ]
    }
   ],
   "source": [
    "# Combine scraped data\n",
    "output = []\n",
    "\n",
    "# Headings (h4)\n",
    "headings = driver.find_elements(By.CLASS_NAME, \"mw-heading4\")\n",
    "output.append(\"== Headings ==\")\n",
    "for h in headings:\n",
    "    output.append(h.text)\n",
    "\n",
    "# Paragraphs (p)\n",
    "paragraphs = driver.find_elements(By.TAG_NAME, \"p\")\n",
    "output.append(\"\\n== Paragraphs ==\")\n",
    "for p in paragraphs[:5]:  # Only taking top 5 for now\n",
    "    output.append(p.text)\n",
    "\n",
    "\n",
    "# Image URLs\n",
    "images = driver.find_elements(By.TAG_NAME, \"img\")\n",
    "output.append(\"\\n== Image Links ==\")\n",
    "for img in images[:5]:  # Only top 5\n",
    "    src = img.get_attribute(\"src\")\n",
    "    if src:\n",
    "        output.append(src)\n",
    "\n",
    "# Save all to a text file\n",
    "with open(\"20th_century_scrape.txt\", \"w\", encoding=\"utf-8\") as f:\n",
    "    for line in output:\n",
    "        f.write(line + \"\\n\")\n",
    "\n",
    "print(\"✅ File saved as '20th_century_keyevents.txt'\")\n"
   ]
  },
  {
   "cell_type": "code",
   "execution_count": 4,
   "id": "031be5f3-b50f-465b-93a3-27d79ebfc98b",
   "metadata": {},
   "outputs": [
    {
     "name": "stdout",
     "output_type": "stream",
     "text": [
      "\n",
      "🗓 1910\n",
      " - The Korean Peninsula was a Japanese colony between 1910 and 1945, when Soviet and American troops invaded and divided it along the 38th parallel.[198] A communist government controlled the territory north of the border and a capitalist one controlled the South, with both authorities considering the other one illegitimate and claiming sovereignty over the entire peninsula.[199] North Korea's invasion of South Korea on 25 June 1950 led to United Nations intervention.[200] General Douglas MacArthur led troops from the United States, Canada, Australia, Great Britain, and other countries in repulsing the Northern invasion.\n",
      "\n",
      "🗓 1914\n",
      " - 1914 saw the completion of the Panama Canal.\n",
      " - From 1914 to 1918, the First World War, and its aftermath, caused major changes in the power balance of the world, destroying or transforming some of the most powerful empires.\n",
      " - The First World War (or simply WWI), termed \"The Great War\" by contemporaries, started in July 1914 and ended in November 1918.\n",
      " - After a period of diplomatic and military escalation known as the July Crisis, by the end of July 1914 two coalitions were at war: the Allies, comprised initially of the British Empire, France, and the Russian Empire; and the Central Powers, comprised initially of the German Empire and Austria-Hungary.[1][2]\n",
      "In 1917, Russia ended hostile actions against the Central Powers after the fall of the Tsar.\n",
      "\n",
      "🗓 1917\n",
      " - After a period of diplomatic and military escalation known as the July Crisis, by the end of July 1914 two coalitions were at war: the Allies, comprised initially of the British Empire, France, and the Russian Empire; and the Central Powers, comprised initially of the German Empire and Austria-Hungary.[1][2]\n",
      "In 1917, Russia ended hostile actions against the Central Powers after the fall of the Tsar.\n",
      " - Combined with already existing malnourishment and overcrowded medical facilities, this mix made it all the more deadly.[17][18]\n",
      "The Russian Revolution of 1917 (ending in the overthrow of the Tsarist regime and the execution of His Imperial Majesty Nicholas II and his family) sparked a wave of communist revolutions across Europe, prompting many to believe that a socialist world revolution could be realized in the near future.[19] However, the European revolutions were defeated, Vladimir Lenin died in 1924, and within a few years, Joseph Stalin displaced Leon Trotsky as the de facto leader of the Soviet Union.\n",
      "\n",
      "🗓 1918\n",
      " - From 1914 to 1918, the First World War, and its aftermath, caused major changes in the power balance of the world, destroying or transforming some of the most powerful empires.\n",
      " - The First World War (or simply WWI), termed \"The Great War\" by contemporaries, started in July 1914 and ended in November 1918.\n",
      " - It also recognized the independence of Ukraine.[3] Although Germany shifted huge forces from the eastern to the western front after signing the treaty, it was unable to stop the Allied advance, especially with the entrance of American troops in 1918.[4]\n",
      "The war itself was also a chance for the combatant nations to show off their military strength and technological ingenuity.\n",
      " - Unfortunately, since trench warfare was the best form of defense, advances on both sides were very slow and came at a terrible cost to lives.[9]\n",
      "When the war was finally over in 1918, the results would set the stage for the next twenty years.\n",
      " - New states like Yugoslavia and Czechoslovakia were created out of the former Austro-Hungarian Empire to accommodate the nationalist aspirations of these groups.[12] An international body called the League of Nations was formed to mediate disputes and prevent future wars, although its effectiveness was severely limited by, among other things, its reluctance and inability to act.[13]\n",
      "From 1918 to 1920, a remarkably deadly worldwide pandemic caused by the flu broke out near the end of the war and spread globally.\n",
      "\n",
      "🗓 1920\n",
      " - New states like Yugoslavia and Czechoslovakia were created out of the former Austro-Hungarian Empire to accommodate the nationalist aspirations of these groups.[12] An international body called the League of Nations was formed to mediate disputes and prevent future wars, although its effectiveness was severely limited by, among other things, its reluctance and inability to act.[13]\n",
      "From 1918 to 1920, a remarkably deadly worldwide pandemic caused by the flu broke out near the end of the war and spread globally.\n",
      "\n",
      "🗓 1922\n",
      " - Fascism first appeared in Italy with the rise to power of Benito Mussolini in 1922.[28] The ideology was supported by a large proportion of the upper classes as a strong challenge to the threat of communism.[29]\n",
      "When Adolf Hitler came to power in Germany in 1933, a new variant of fascism called Nazism took over Germany and ended the German experiment with democracy.\n",
      "\n",
      "🗓 1924\n",
      " - Combined with already existing malnourishment and overcrowded medical facilities, this mix made it all the more deadly.[17][18]\n",
      "The Russian Revolution of 1917 (ending in the overthrow of the Tsarist regime and the execution of His Imperial Majesty Nicholas II and his family) sparked a wave of communist revolutions across Europe, prompting many to believe that a socialist world revolution could be realized in the near future.[19] However, the European revolutions were defeated, Vladimir Lenin died in 1924, and within a few years, Joseph Stalin displaced Leon Trotsky as the de facto leader of the Soviet Union.\n",
      "\n",
      "🗓 1929\n",
      " - The idea of worldwide revolution was no longer in the forefront, as Stalin concentrated on \"socialism in one country\"[20] and embarked on a bold plan of collectivization and industrialization.[21] The majority of socialists and even many communists became disillusioned with Stalin's autocratic rule, his purges and the assassination of his \"enemies\", as well as the news of famines he imposed on his own people.[22]\n",
      "Communism was strengthened as a force in Western democracies when the global economy crashed in 1929 in what became known as the Great Depression.\n",
      "\n",
      "🗓 1931\n",
      " - The first event that is usually linked to the later Pacific conflict was the Mukden Incident of 18 September 1931, during which the Japanese military staged the bombing of the South Manchuria Railway and pinned the blame on Chinese dissidents.[94] Japan then used this as pretext to invade northeastern China the next day and turn the region of Manchuria into the Japanese puppet state of Manchukuo.[95] After the League of Nations commissioned the 1932 Lytton Report, which exposed the Mukden Incident as a Japanese ruse, Japan was left internationally isolated, withdrawing from the League of Nations in March 1933.\n",
      "\n",
      "🗓 1932\n",
      " - The first event that is usually linked to the later Pacific conflict was the Mukden Incident of 18 September 1931, during which the Japanese military staged the bombing of the South Manchuria Railway and pinned the blame on Chinese dissidents.[94] Japan then used this as pretext to invade northeastern China the next day and turn the region of Manchuria into the Japanese puppet state of Manchukuo.[95] After the League of Nations commissioned the 1932 Lytton Report, which exposed the Mukden Incident as a Japanese ruse, Japan was left internationally isolated, withdrawing from the League of Nations in March 1933.\n",
      "\n",
      "🗓 1933\n",
      " - Fascism first appeared in Italy with the rise to power of Benito Mussolini in 1922.[28] The ideology was supported by a large proportion of the upper classes as a strong challenge to the threat of communism.[29]\n",
      "When Adolf Hitler came to power in Germany in 1933, a new variant of fascism called Nazism took over Germany and ended the German experiment with democracy.\n",
      " - The first event that is usually linked to the later Pacific conflict was the Mukden Incident of 18 September 1931, during which the Japanese military staged the bombing of the South Manchuria Railway and pinned the blame on Chinese dissidents.[94] Japan then used this as pretext to invade northeastern China the next day and turn the region of Manchuria into the Japanese puppet state of Manchukuo.[95] After the League of Nations commissioned the 1932 Lytton Report, which exposed the Mukden Incident as a Japanese ruse, Japan was left internationally isolated, withdrawing from the League of Nations in March 1933.\n",
      "\n",
      "🗓 1934\n",
      " - In 1934 Manchukuo became a constitutional monarchy and the former Chinese Emperor Pu Yi was placed on the throne, despite the real power being held by Japan.[96]\n",
      "Despite relations between Japan and China suffering because the occupation of Manchuria, the situation did not turn into all-out war until 7 July 1937, when a dispute between Chinese and Japanese soldiers turned into a battle during the Marco Polo Bridge Incident.[97] This, in turn, led to a further escalation of the hostilities, leading to the Second Sino-Japanese War, one of the deadliest conflicts in human history.[98] Japan enjoyed some early major victories, capturing both Shanghai and the Chinese capital of Nanjing in 1937 and forcing the Chinese central government 's relocation to Chongqing.\n",
      "\n",
      "🗓 1937\n",
      " - In 1934 Manchukuo became a constitutional monarchy and the former Chinese Emperor Pu Yi was placed on the throne, despite the real power being held by Japan.[96]\n",
      "Despite relations between Japan and China suffering because the occupation of Manchuria, the situation did not turn into all-out war until 7 July 1937, when a dispute between Chinese and Japanese soldiers turned into a battle during the Marco Polo Bridge Incident.[97] This, in turn, led to a further escalation of the hostilities, leading to the Second Sino-Japanese War, one of the deadliest conflicts in human history.[98] Japan enjoyed some early major victories, capturing both Shanghai and the Chinese capital of Nanjing in 1937 and forcing the Chinese central government 's relocation to Chongqing.\n",
      " - In 1934 Manchukuo became a constitutional monarchy and the former Chinese Emperor Pu Yi was placed on the throne, despite the real power being held by Japan.[96]\n",
      "Despite relations between Japan and China suffering because the occupation of Manchuria, the situation did not turn into all-out war until 7 July 1937, when a dispute between Chinese and Japanese soldiers turned into a battle during the Marco Polo Bridge Incident.[97] This, in turn, led to a further escalation of the hostilities, leading to the Second Sino-Japanese War, one of the deadliest conflicts in human history.[98] Japan enjoyed some early major victories, capturing both Shanghai and the Chinese capital of Nanjing in 1937 and forcing the Chinese central government 's relocation to Chongqing.\n",
      "\n",
      "🗓 1938\n",
      " - Antisemitism during the Great Depression was widespread as many were content to blame the Jews for causing the economic downturn.[33]\n",
      "Hitler began to put his plan in motion, annexing Austria in the Anschluss, or reunification of Austria to Germany, in 1938.[34] He then negotiated the annexation of the Sudetenland, a German-speaking mountainous area of Czechoslovakia, in the Munich Conference.[35] The British were eager to avoid war and believed Hitler's assurance to protect the security of the Czech state.\n",
      "\n",
      "🗓 1939\n",
      " - World War II officially began on 1 September 1939, when Hitler unleashed his Blitzkrieg, or lightning war, against Poland.\n",
      " - This treaty gave Stalin free rein to take the Baltic republics of Estonia, Latvia, and Lithuania, as well as Eastern Poland, all of which would remain in Soviet possession after the war.[42] Stalin also launched an attack on Finland, which he hoped to reduce to little more than a Soviet puppet state, but the Red Army met staunch Finnish resistance in what became known as the Winter War and succeeded in gaining only limited territory from the Finns.[43] This action would later cause the Finns to ally with Germany when its attack on the Soviet Union came in 1941.[44]\n",
      "After the defeat of Poland, a period known as the Phony War ensued during the winter of 1939–1940, which saw only limited military land operation on the Western Front.[45] This changed when Hitler occupied Denmark and Norway, beginning on 9 April 1940.\n",
      " - Following Chinese victories in Changsha and Guangxi in 1939, the war reached somewhat of a stalemate, with Japan controlling the large cities, but being unable to rule the vast countryside.[99] On 27 September 1940, Japan became cosignatories of the Tripartite Pact, joining a military alliance with Germany and Italy.[100]\n",
      "On 7 December 1941, Japan launched a surprise attack on the American base at Pearl Harbor as a mean of preventing the U.S.\n",
      "\n",
      "🗓 1940\n",
      " - This treaty gave Stalin free rein to take the Baltic republics of Estonia, Latvia, and Lithuania, as well as Eastern Poland, all of which would remain in Soviet possession after the war.[42] Stalin also launched an attack on Finland, which he hoped to reduce to little more than a Soviet puppet state, but the Red Army met staunch Finnish resistance in what became known as the Winter War and succeeded in gaining only limited territory from the Finns.[43] This action would later cause the Finns to ally with Germany when its attack on the Soviet Union came in 1941.[44]\n",
      "After the defeat of Poland, a period known as the Phony War ensued during the winter of 1939–1940, which saw only limited military land operation on the Western Front.[45] This changed when Hitler occupied Denmark and Norway, beginning on 9 April 1940.\n",
      " - This treaty gave Stalin free rein to take the Baltic republics of Estonia, Latvia, and Lithuania, as well as Eastern Poland, all of which would remain in Soviet possession after the war.[42] Stalin also launched an attack on Finland, which he hoped to reduce to little more than a Soviet puppet state, but the Red Army met staunch Finnish resistance in what became known as the Winter War and succeeded in gaining only limited territory from the Finns.[43] This action would later cause the Finns to ally with Germany when its attack on the Soviet Union came in 1941.[44]\n",
      "After the defeat of Poland, a period known as the Phony War ensued during the winter of 1939–1940, which saw only limited military land operation on the Western Front.[45] This changed when Hitler occupied Denmark and Norway, beginning on 9 April 1940.\n",
      " - Norway held on for a few crucial weeks, but Denmark surrendered after only six hours.[46][47] Sweden was the only Scandinavian country to successfully maintain its neutrality throughout the war, with occasional breaches of neutrality in favor of both Germany and the Western Allies.[48] On the 10 May 1940, when the Germans launched a massive attack on the Low Countries (Belgium, the Netherlands, and Luxembourg), likely to surmount the Maginot Line of defenses on the Franco-German border.[49] This witnessed the incredible fall of Eben Emael, a Belgian fort considered impregnable and guarded by 600 Belgians, to a force of only 88 German paratroopers.\n",
      " - The British at first suffered steady losses, but eventually managed to turn the air war against Germany, taking down 2,698 German planes throughout the summer of 1940 to only 915 Royal Air Force (RAF) losses.[58] The key turning point came when the Germans discontinued successful attacks against British airplane factories and radar command and coordination stations and turned to civilian bombing known as terror bombing using the distinctive \"bomb\" sound created by the German dive-bomber, the Stuka.[59] The switch came after a small British bombing force had attacked Berlin.[60] Hitler was infuriated.\n",
      " - Following Chinese victories in Changsha and Guangxi in 1939, the war reached somewhat of a stalemate, with Japan controlling the large cities, but being unable to rule the vast countryside.[99] On 27 September 1940, Japan became cosignatories of the Tripartite Pact, joining a military alliance with Germany and Italy.[100]\n",
      "On 7 December 1941, Japan launched a surprise attack on the American base at Pearl Harbor as a mean of preventing the U.S.\n",
      "\n",
      "🗓 1941\n",
      " - This treaty gave Stalin free rein to take the Baltic republics of Estonia, Latvia, and Lithuania, as well as Eastern Poland, all of which would remain in Soviet possession after the war.[42] Stalin also launched an attack on Finland, which he hoped to reduce to little more than a Soviet puppet state, but the Red Army met staunch Finnish resistance in what became known as the Winter War and succeeded in gaining only limited territory from the Finns.[43] This action would later cause the Finns to ally with Germany when its attack on the Soviet Union came in 1941.[44]\n",
      "After the defeat of Poland, a period known as the Phony War ensued during the winter of 1939–1940, which saw only limited military land operation on the Western Front.[45] This changed when Hitler occupied Denmark and Norway, beginning on 9 April 1940.\n",
      " - He originally planned to launch the attack in early spring of 1941 to avoid the disastrous Russian winter.\n",
      " - However, a pro-allied coup in Yugoslavia and Mussolini's almost utter defeat in his invasion of Greece from occupied Albania prompted Hitler to launch a personal campaign of revenge in Yugoslavia and to occupy Greece at the same time.[63] The Greeks would have a bitter revenge of sorts; the attack caused a delay of several crucial weeks of the invasion of the USSR, potentially hampering it.[64]\n",
      "On 22 June 1941, Hitler attacked Stalin with the largest army the world had ever seen.\n",
      " - Therefore, the Soviet army was largely unprepared and suffered massive setbacks in the early part of the war, despite Stalin's orders to counterattack the Germans.[66] Throughout 1941, German forces, divided into 3 army groups (Army Group A, Army Group B, and Army Group C), occupied the territories of the present day Ukraine and Belarus, laid siege to Leningrad (present day Saint Petersburg), and advanced to within 15 miles of Moscow.\n",
      " - In the end, the defeat at Stalingrad was the turning point for the war in the east.[71]\n",
      "Meanwhile, the Japanese had attacked the United States at Pearl Harbor in Hawaii on 7 December 1941.\n",
      " - Following Chinese victories in Changsha and Guangxi in 1939, the war reached somewhat of a stalemate, with Japan controlling the large cities, but being unable to rule the vast countryside.[99] On 27 September 1940, Japan became cosignatories of the Tripartite Pact, joining a military alliance with Germany and Italy.[100]\n",
      "On 7 December 1941, Japan launched a surprise attack on the American base at Pearl Harbor as a mean of preventing the U.S.\n",
      "\n",
      "🗓 1942\n",
      " - However, Hitler, embroiled in his invasion of the Soviet Union, refused to send Rommel any more troops, causing Rommel to retreat and preventing him from seizing the Middle East, where Axis-friendly regimes had taken root in Iraq and Persia (present-day Iran).[69][70]\n",
      "After the winter, Hitler launched a fresh offensive in the spring of 1942, with the aim of capturing the oil-rich Caucacus and the city of Stalingrad.\n",
      " - Both Germany and Italy declared war on the United States a few days after the attack.[72]\n",
      "Throughout the rest of 1942 and 1943, the Soviets began to gain ground against the Germans after some victories like the tank battle of Kursk.[73] By this time, Rommel had been forced to abandon North Africa after a defeat by Montgomery at El Alamein in what was the first decisive victory of the Allies over the Germany army, leading Churchill to declare it \"the end of the beginning\".[74] On several fronts, the Wehrmacht had encountered serious casualties that it could not replace.\n",
      " - By the beginning of 1944, Hitler had lost all initiative in the Soviet Union, and was struggling even to hold back the tide turning against him.[75]\n",
      "From 1942 to 1944, the United States and Britain acted in only a limited manner in the European theater, much to the chagrin of Stalin.\n",
      " - They drove out the Germans in Africa, invading Morocco and Algeria on 8 November 1942.[76] Then, on 10 July 1943, the Allies invaded Sicily, in preparation for an advance through Italy, the \"soft underbelly\" of the Axis, as Winston Churchill called it.\n",
      " - The Germans offered staunch resistance, but by 4 June 1944, Rome had fallen.[79]\n",
      "The Battle of the Atlantic took place from 1942 to 1944 and was described as \"longest, largest, and most complex naval battle in history\".[80] The Germans hoped to sever the vital supply lines between Britain and America, sinking many tons of shipping with U-boats, German submarines.\n",
      " - Japan managed to capture British Burma, New Guinea, the Dutch East Indies, the Solomon Islands, Bali and Timor.[105] In March 1942, days before the surrender of the Philippines, general Douglas MacArthur, who came out of retirement to become commander of United States Army Forces in the Far East at the onset of the war, was forced to flee and narrowly escape to Australia.[106] On 19 February 1942, Japan also launched a devastating aerial attack on the Australian city of Darwin, in what was the first attack by a foreign power on Australian soil.[107]\n",
      "The turning of the tide came in early May, during the Battle of the Coral Sea, which proved the first strategic victory of the Allies against Japanese expansion.[108] This was followed one month later by the Battle of Midway, in which the US Navy defeated an attacking Japanese fleet, inflicting devastating damage on the attacking force.\n",
      " - Japan managed to capture British Burma, New Guinea, the Dutch East Indies, the Solomon Islands, Bali and Timor.[105] In March 1942, days before the surrender of the Philippines, general Douglas MacArthur, who came out of retirement to become commander of United States Army Forces in the Far East at the onset of the war, was forced to flee and narrowly escape to Australia.[106] On 19 February 1942, Japan also launched a devastating aerial attack on the Australian city of Darwin, in what was the first attack by a foreign power on Australian soil.[107]\n",
      "The turning of the tide came in early May, during the Battle of the Coral Sea, which proved the first strategic victory of the Allies against Japanese expansion.[108] This was followed one month later by the Battle of Midway, in which the US Navy defeated an attacking Japanese fleet, inflicting devastating damage on the attacking force.\n",
      " - By August 1942, the Allied forces were on the offensive, earning victories in the New Guinea campaign at Guadalcanal, Milne Bay and Buna-Gona.[111]\n",
      "Over the next two years the Allies slowly captured one island base after another, trying to get closer to Japan itself, where it planned to launch massive strategic air attacks and, only if absolutely necessary, execute a ground invasion.\n",
      " - In 1942, the top leadership met in Wannsee, a suburb of Berlin, and began to plan a more efficient way to slaughter the Jews.[135] The Nazis created a system of extermination camps throughout Poland, and began rounding up Jews from the Soviet Union, and from the Ghettos.[136][137] Not only were Jews shot or gassed to death en masse, but they were forced to provide slave labor and they were used in horrific medical experiments (see Human experimentation in Nazi Germany).[138] Out of the widespread condemnation of the Nazis' medical experiments, the Nuremberg Code of medical ethics was devised.[139]\n",
      "The Nazis took a sadistic pleasure in the death camps; the entrance to the most notorious camp, Auschwitz, stated \"Arbeit Macht Frei\"—\"Work Sets You Free\".[140] In the end, six million Jews and up to 5 million homosexuals, Jehovah's Witnesses, Roma and political prisoners were killed by various means, mainly in the death camps.[141][142][143] An additional several million Soviet and other Allied prisoners of war died in camps and holding areas.[144][145]\n",
      "There is some controversy over whether ordinary Germans knew about the Holocaust.[146] It appears that many Germans knew about the concentration camps; such things were prominently displayed in magazines and newspapers.[147] In many places, Jews had to walk past towns and villages on their way to work as slaves in German industry.\n",
      "\n",
      "🗓 1943\n",
      " - Both Germany and Italy declared war on the United States a few days after the attack.[72]\n",
      "Throughout the rest of 1942 and 1943, the Soviets began to gain ground against the Germans after some victories like the tank battle of Kursk.[73] By this time, Rommel had been forced to abandon North Africa after a defeat by Montgomery at El Alamein in what was the first decisive victory of the Allies over the Germany army, leading Churchill to declare it \"the end of the beginning\".[74] On several fronts, the Wehrmacht had encountered serious casualties that it could not replace.\n",
      " - They drove out the Germans in Africa, invading Morocco and Algeria on 8 November 1942.[76] Then, on 10 July 1943, the Allies invaded Sicily, in preparation for an advance through Italy, the \"soft underbelly\" of the Axis, as Winston Churchill called it.\n",
      " - On 9 September, the invasion of Italy began.[77] By the winter of 1943, the southern half of Italy was in Allied hands.\n",
      " - However, the development of the destroyer and aircraft with a longer patrol range were effective at countering the U-boat threat and by December 1943, the Germans had lost the battle.[81]\n",
      "On 6 June 1944, the Western Allies finally launched the long-awaited assault on \"Fortress Europe\" so wanted by Stalin.\n",
      "\n",
      "🗓 1944\n",
      " - Hitler refused to \"risk\" his panzers on an action at Dunkirk, listening to the advice of Air Minister Hermann Göring and allowing the Luftwaffe, or German Air Force, to handle the job.[52] The irony of this was that the escaped men would form the core of the army that was to invade the beaches of Normandy in 1944.\n",
      " - By the beginning of 1944, Hitler had lost all initiative in the Soviet Union, and was struggling even to hold back the tide turning against him.[75]\n",
      "From 1942 to 1944, the United States and Britain acted in only a limited manner in the European theater, much to the chagrin of Stalin.\n",
      " - By the beginning of 1944, Hitler had lost all initiative in the Soviet Union, and was struggling even to hold back the tide turning against him.[75]\n",
      "From 1942 to 1944, the United States and Britain acted in only a limited manner in the European theater, much to the chagrin of Stalin.\n",
      " - The Germans offered staunch resistance, but by 4 June 1944, Rome had fallen.[79]\n",
      "The Battle of the Atlantic took place from 1942 to 1944 and was described as \"longest, largest, and most complex naval battle in history\".[80] The Germans hoped to sever the vital supply lines between Britain and America, sinking many tons of shipping with U-boats, German submarines.\n",
      " - The Germans offered staunch resistance, but by 4 June 1944, Rome had fallen.[79]\n",
      "The Battle of the Atlantic took place from 1942 to 1944 and was described as \"longest, largest, and most complex naval battle in history\".[80] The Germans hoped to sever the vital supply lines between Britain and America, sinking many tons of shipping with U-boats, German submarines.\n",
      " - However, the development of the destroyer and aircraft with a longer patrol range were effective at countering the U-boat threat and by December 1943, the Germans had lost the battle.[81]\n",
      "On 6 June 1944, the Western Allies finally launched the long-awaited assault on \"Fortress Europe\" so wanted by Stalin.\n",
      " - On 20 July 1944, a group of conspiring German officers attempted to assassinate Hitler.\n",
      " - In the winter of 1944, Hitler put everything into one last desperate gamble in the West, known as the Battle of the Bulge, which, despite an initial advance, was a failure, because the introduction of new Allied tanks and low troop numbers among the Germans prevented any real action being taken.\n",
      " - By July 1944, the US recaptured Guam and captured Tinian, which finally put them in attacking range of mainland Japan using the new Boeing B-29 bombers.[112] Despite the advances of the Allies, massive fighting was still taking place, both in South-East Asia with the Japanese offensive in India and in the Pacific, with the Battle of the Philippine Sea, where Japan suffered major losses and definitively lost the ability to rely on aircraft carriers.[113] In later October, a combined attack of American and Australian forces took on the Imperial Japanese Navy during the Battle of Leyte Gulf in what was to be the largest naval battle of World War II and possibly the largest naval battle of all time.[114] The Allied victory achieved its stated goal of further severing oil supplied to the Japanese army, which was already struggling to fuel the remainder of its naval power.[115] The battle of Leyte Gulf is also notable as the first battle in which Japanese aircraft carried out organized kamikaze attacks.[116]\n",
      "By early 1945, the Americans set their eyes on the Japanese island of Iwo Jima, which was of great strategic importance, being situated halfway between Tokyo and the Mariana Islands.\n",
      "\n",
      "🗓 1945\n",
      " - Nevertheless, it was one of the bloodiest battles of the war and the second costliest battle in the history of the American Army.[88]\n",
      "In early February 1945, the three Allied leaders, Franklin Roosevelt, Winston Churchill, and Joseph Stalin, met at newly liberated Yalta in the Crimea in the Soviet Union in the Yalta Conference.[89] Here, they agreed upon a plan to divide post-war Europe.\n",
      " - This division of spheres of influence would set up international diplomacy for the Cold War that would dominate the second half of the century.[90]\n",
      "At the beginning of 1945, Hitler was on his last strings.\n",
      " - On 30 April he committed suicide by shooting himself, after a ritual wedding with his longtime mistress Eva Braun.[92] The Germans held out another 7 days under Admiral Doenitz, their new leader, but the Germans surrendered unconditionally on 7 May 1945, ending the war in Europe (see V-E Day).[93]\n",
      "Rivalries that had begun during the war, combined with the sense of strength in the victorious powers, laid the foundations of the Iron Curtain and of the Cold War.\n",
      " - By July 1944, the US recaptured Guam and captured Tinian, which finally put them in attacking range of mainland Japan using the new Boeing B-29 bombers.[112] Despite the advances of the Allies, massive fighting was still taking place, both in South-East Asia with the Japanese offensive in India and in the Pacific, with the Battle of the Philippine Sea, where Japan suffered major losses and definitively lost the ability to rely on aircraft carriers.[113] In later October, a combined attack of American and Australian forces took on the Imperial Japanese Navy during the Battle of Leyte Gulf in what was to be the largest naval battle of World War II and possibly the largest naval battle of all time.[114] The Allied victory achieved its stated goal of further severing oil supplied to the Japanese army, which was already struggling to fuel the remainder of its naval power.[115] The battle of Leyte Gulf is also notable as the first battle in which Japanese aircraft carried out organized kamikaze attacks.[116]\n",
      "By early 1945, the Americans set their eyes on the Japanese island of Iwo Jima, which was of great strategic importance, being situated halfway between Tokyo and the Mariana Islands.\n",
      " - Continuing to come nearer the main Japanese islands, on 1 April 1945 the US Marines mounted the largest amphibious assault of the Pacific Theater on the island of Okinawa.[120] After a long campaign of island hopping, the Allies were planning to use Kadena Air Base on the large island of Okinawa as a base for Operation Downfall, the planned invasion of the Japanese home islands which were only 340 miles away.[121] The battle was one of the bloodiest in the Pacific, with approximately 160,000 casualties on both sides: at least 75,000 Allied and 84,166–117,000 Japanese.\n",
      " - The two bombings killed 129,000–226,000 people, most of them civilians.[125] On 9 August, the Soviet Union also invaded Manchukuo in what was to be the last campaign of the war.[126]\n",
      "On 10 August the \"sacred decision\" was made by Japanese Cabinet to accept the Potsdam terms and on 15 August Emperor Hirohito broadcast to the nation and to the world at large the rescript of surrender, ending the Second World War.[127] The formal Japanese Instrument of Surrender was signed on 2 September 1945, on the battleship USS Missouri, in Tokyo Bay.\n",
      " - At the secret Los Alamos laboratory in New Mexico, scientist Robert Oppenheimer led a team of the world's top scientists to develop the first nuclear weapons, the first of which was tested at the Trinity site in July 1945.[151] However, Germany had surrendered in May 1945, and it had been discovered that the German atomic bomb program had not been very close to success.[152]\n",
      "The Allied team produced two nuclear weapons for use in the war, one powered by uranium-235 and the other by plutonium as fissionable material, named \"Little Boy\" and \"Fat Man\".[153] These were dropped on the Japanese cities of Hiroshima and Nagasaki on 6 and 9 August 1945 each.\n",
      " - At the secret Los Alamos laboratory in New Mexico, scientist Robert Oppenheimer led a team of the world's top scientists to develop the first nuclear weapons, the first of which was tested at the Trinity site in July 1945.[151] However, Germany had surrendered in May 1945, and it had been discovered that the German atomic bomb program had not been very close to success.[152]\n",
      "The Allied team produced two nuclear weapons for use in the war, one powered by uranium-235 and the other by plutonium as fissionable material, named \"Little Boy\" and \"Fat Man\".[153] These were dropped on the Japanese cities of Hiroshima and Nagasaki on 6 and 9 August 1945 each.\n",
      " - At the secret Los Alamos laboratory in New Mexico, scientist Robert Oppenheimer led a team of the world's top scientists to develop the first nuclear weapons, the first of which was tested at the Trinity site in July 1945.[151] However, Germany had surrendered in May 1945, and it had been discovered that the German atomic bomb program had not been very close to success.[152]\n",
      "The Allied team produced two nuclear weapons for use in the war, one powered by uranium-235 and the other by plutonium as fissionable material, named \"Little Boy\" and \"Fat Man\".[153] These were dropped on the Japanese cities of Hiroshima and Nagasaki on 6 and 9 August 1945 each.\n",
      " - Less well-known trials of other Axis officials also occurred, including the Tokyo War Crime Trial.[170]\n",
      "The failure of the League of Nations to prevent World War II essentially discredited the organization, and it was dissolved.[171] A new attempt at world peace was begun with the founding of the United Nations on 24 October 1945, in San Francisco.[172] Today, nearly all countries are members, but despite its many successes, the organization's success at achieving its goal of world peace is disputed.\n",
      " - Furthermore, between 1945 and 1949, Yugoslavia, Albania, Bulgaria, Poland, Romania, Czechoslovakia, Hungary and East Germany saw communist regimes coming to power and their transformation into People's Republics.[193] While they remained independent countries and their relation with the Soviet authorities would fluctuate over the next half century, they were widely seen as Soviet satellite states.\n",
      " - The Korean Peninsula was a Japanese colony between 1910 and 1945, when Soviet and American troops invaded and divided it along the 38th parallel.[198] A communist government controlled the territory north of the border and a capitalist one controlled the South, with both authorities considering the other one illegitimate and claiming sovereignty over the entire peninsula.[199] North Korea's invasion of South Korea on 25 June 1950 led to United Nations intervention.[200] General Douglas MacArthur led troops from the United States, Canada, Australia, Great Britain, and other countries in repulsing the Northern invasion.\n",
      "\n",
      "🗓 1946\n",
      " - This was achieved in 1947 with the end of British rule in India and the Partition of the territory into modern-day India and Pakistan, which would later also further divide, leading to the creation of the People's Republic of Bangladesh in 1971.[175][176] Elsewhere in Asia, The United States granted independence to the Philippines, its major Pacific possession in 1946.[177] In French Indochina, armed insurrections forced the French out in the early 1950s, leading to the formation of Laos, Cambodia and Vietnam.[178]\n",
      "In Africa, nationalists such as Jomo Kenyatta of Kenya and Kwame Nkrumah of Ghana led their respective nations to independence from foreign rule.[179] Mere decades before, the British Empire controlled almost half of the continent, but by 1968, the only British possession in Africa was Seychelles (which would also become independent in 1976).\n",
      " - Between 1956 and 1962, almost 20 African countries achieved their independence from France.[180] Through the efforts of Amílcar Cabral and others, the Portuguese colonies of Guinea-Bissau, Cape Verde, Angola, Mozambique and São Tomé and Príncipe followed suit and achieved independence during the mid-1970s, in what was to be the last important wave of African decolonization.[181]\n",
      "In 1946, there were 35 member states in the United Nations, but as the newly independent nations joined the organization, by 1970 membership increased to 127.[182]\n",
      "The emergence of newly independent countries in Africa and Asia that used the borders of the imperial partitions later led to further conflict.[183] In many cases this meant that historically antagonistic ethnic or religious groups now needed to share the same country or that several nations held territorial claims over regions which were more or less arbitrarily divided by European powers.[184][185] Some conflicts which aroused from these tensions, especially the Nigerian Civil War, the Second Congo War, the Second Sudanese Civil War and the Bangladesh Liberation War have been among the bloodiest wars of the 20th century.[186]\n",
      "During the Yalta Conference, where the Western, capitalist powers, and the communist Soviet Union agreed on separate spheres of influence in Europe, they set up the stage for a geopolitical rivalry that would dominate international relations for the next five decades.[187] In March 1946, Winston Churchill gave a now famous speech while visiting Westminster College in the US which is usually credited as the first use of the term Iron Curtain to refer to the separation of Soviet and Western areas of influence in Europe:[188]\n",
      "From Stettin in the Baltic to Trieste in the Adriatic an iron curtain has descended across the Continent.\n",
      " - Between 1956 and 1962, almost 20 African countries achieved their independence from France.[180] Through the efforts of Amílcar Cabral and others, the Portuguese colonies of Guinea-Bissau, Cape Verde, Angola, Mozambique and São Tomé and Príncipe followed suit and achieved independence during the mid-1970s, in what was to be the last important wave of African decolonization.[181]\n",
      "In 1946, there were 35 member states in the United Nations, but as the newly independent nations joined the organization, by 1970 membership increased to 127.[182]\n",
      "The emergence of newly independent countries in Africa and Asia that used the borders of the imperial partitions later led to further conflict.[183] In many cases this meant that historically antagonistic ethnic or religious groups now needed to share the same country or that several nations held territorial claims over regions which were more or less arbitrarily divided by European powers.[184][185] Some conflicts which aroused from these tensions, especially the Nigerian Civil War, the Second Congo War, the Second Sudanese Civil War and the Bangladesh Liberation War have been among the bloodiest wars of the 20th century.[186]\n",
      "During the Yalta Conference, where the Western, capitalist powers, and the communist Soviet Union agreed on separate spheres of influence in Europe, they set up the stage for a geopolitical rivalry that would dominate international relations for the next five decades.[187] In March 1946, Winston Churchill gave a now famous speech while visiting Westminster College in the US which is usually credited as the first use of the term Iron Curtain to refer to the separation of Soviet and Western areas of influence in Europe:[188]\n",
      "From Stettin in the Baltic to Trieste in the Adriatic an iron curtain has descended across the Continent.\n",
      "\n",
      "🗓 1947\n",
      " - This was achieved in 1947 with the end of British rule in India and the Partition of the territory into modern-day India and Pakistan, which would later also further divide, leading to the creation of the People's Republic of Bangladesh in 1971.[175][176] Elsewhere in Asia, The United States granted independence to the Philippines, its major Pacific possession in 1946.[177] In French Indochina, armed insurrections forced the French out in the early 1950s, leading to the formation of Laos, Cambodia and Vietnam.[178]\n",
      "In Africa, nationalists such as Jomo Kenyatta of Kenya and Kwame Nkrumah of Ghana led their respective nations to independence from foreign rule.[179] Mere decades before, the British Empire controlled almost half of the continent, but by 1968, the only British possession in Africa was Seychelles (which would also become independent in 1976).\n",
      "\n",
      "🗓 1949\n",
      " - While at first the United States held a monopoly on the production of nuclear weapons, the Soviet Union, with some assistance from espionage, managed to detonate its first weapon (dubbed \"Joe-1\" by the West) in August 1949.[155][156] The post-war relations between the two, which had already been deteriorating, began to rapidly disintegrate.\n",
      " - Furthermore, between 1945 and 1949, Yugoslavia, Albania, Bulgaria, Poland, Romania, Czechoslovakia, Hungary and East Germany saw communist regimes coming to power and their transformation into People's Republics.[193] While they remained independent countries and their relation with the Soviet authorities would fluctuate over the next half century, they were widely seen as Soviet satellite states.\n",
      " - Outside of Europe, countries that would see the rise of communism and would ally themselves to the communist bloc include Mongolia, China, North Korea, Cuba and Vietnam.[194]\n",
      "The spread of the communist ideology in general and the Soviet influence in particular made Western leaders nervous and it even lead to Churchill considering a preemptive attack on the USSR even before World War II was formally ended.[195]\n",
      "The two rival blocks also coalesced into formal mutual defense organizations, with the formation of the North Atlantic Treaty Organization (NATO) in 1949[196] and the Warsaw Pact in 1955,[197] each determine to expand its own influence among unaligned countries and limit the influence of their rivals.\n",
      "\n",
      "🗓 1950\n",
      " - The United States began a crash program to develop the first hydrogen bomb in 1950, and detonated its first thermonuclear weapon in 1952.\n",
      " - The Korean Peninsula was a Japanese colony between 1910 and 1945, when Soviet and American troops invaded and divided it along the 38th parallel.[198] A communist government controlled the territory north of the border and a capitalist one controlled the South, with both authorities considering the other one illegitimate and claiming sovereignty over the entire peninsula.[199] North Korea's invasion of South Korea on 25 June 1950 led to United Nations intervention.[200] General Douglas MacArthur led troops from the United States, Canada, Australia, Great Britain, and other countries in repulsing the Northern invasion.\n",
      "\n",
      "🗓 1952\n",
      " - The United States began a crash program to develop the first hydrogen bomb in 1950, and detonated its first thermonuclear weapon in 1952.\n",
      " - occupation, that would last seven years, until 1952.[168] Oddly, these two Axis powers, despite military occupation, soon rose to become the second (Japan) and third (West Germany) most powerful economies in the world.[169]\n",
      "Following the end of the war, the Allies famously prosecuted numerous German officials for war crimes and other offenses in the Nuremberg Trials.\n",
      "\n",
      "🗓 1953\n",
      " - The Soviet Union detonated a primitive thermonuclear weapon in 1953 and a full-fledged one in 1955.[157]\n",
      "The conflict continued to escalate, with the major superpowers developing long-range missiles (such as the ICBM) and a nuclear strategy which guaranteed that any use of the nuclear weapons would be suicide for the attacking nation (Mutually Assured Destruction).\n",
      " - forces back, and an Armistice ended hostilities in July 1953, leaving the two Koreas divided and tense for the rest of the century.[201]\n",
      "The second war, the Vietnam War, was perhaps the third most visible war of the 20th century, after World War I and World War II.\n",
      "\n",
      "🗓 1954\n",
      " - After the French withdrawal from its former colony, on 21 July 1954, Vietnam became partitioned into two halves, much like Korea, along the 17th parallel.\n",
      "\n",
      "🗓 1955\n",
      " - The Soviet Union detonated a primitive thermonuclear weapon in 1953 and a full-fledged one in 1955.[157]\n",
      "The conflict continued to escalate, with the major superpowers developing long-range missiles (such as the ICBM) and a nuclear strategy which guaranteed that any use of the nuclear weapons would be suicide for the attacking nation (Mutually Assured Destruction).\n",
      " - Outside of Europe, countries that would see the rise of communism and would ally themselves to the communist bloc include Mongolia, China, North Korea, Cuba and Vietnam.[194]\n",
      "The spread of the communist ideology in general and the Soviet influence in particular made Western leaders nervous and it even lead to Churchill considering a preemptive attack on the USSR even before World War II was formally ended.[195]\n",
      "The two rival blocks also coalesced into formal mutual defense organizations, with the formation of the North Atlantic Treaty Organization (NATO) in 1949[196] and the Warsaw Pact in 1955,[197] each determine to expand its own influence among unaligned countries and limit the influence of their rivals.\n",
      "\n",
      "🗓 1956\n",
      " - Between 1956 and 1962, almost 20 African countries achieved their independence from France.[180] Through the efforts of Amílcar Cabral and others, the Portuguese colonies of Guinea-Bissau, Cape Verde, Angola, Mozambique and São Tomé and Príncipe followed suit and achieved independence during the mid-1970s, in what was to be the last important wave of African decolonization.[181]\n",
      "In 1946, there were 35 member states in the United Nations, but as the newly independent nations joined the organization, by 1970 membership increased to 127.[182]\n",
      "The emergence of newly independent countries in Africa and Asia that used the borders of the imperial partitions later led to further conflict.[183] In many cases this meant that historically antagonistic ethnic or religious groups now needed to share the same country or that several nations held territorial claims over regions which were more or less arbitrarily divided by European powers.[184][185] Some conflicts which aroused from these tensions, especially the Nigerian Civil War, the Second Congo War, the Second Sudanese Civil War and the Bangladesh Liberation War have been among the bloodiest wars of the 20th century.[186]\n",
      "During the Yalta Conference, where the Western, capitalist powers, and the communist Soviet Union agreed on separate spheres of influence in Europe, they set up the stage for a geopolitical rivalry that would dominate international relations for the next five decades.[187] In March 1946, Winston Churchill gave a now famous speech while visiting Westminster College in the US which is usually credited as the first use of the term Iron Curtain to refer to the separation of Soviet and Western areas of influence in Europe:[188]\n",
      "From Stettin in the Baltic to Trieste in the Adriatic an iron curtain has descended across the Continent.\n",
      "\n",
      "🗓 1957\n",
      " - After a tense week, the Soviet Union backed down and ordered the launchers removed, not wanting to risk igniting a new world war.[213][214]\n",
      "With Cold War tensions running high, the Soviet Union and United States took their rivalry to the stars in 1957 with the Soviet launch of Sputnik.[215] A \"space race\" between the two powers followed.[216] The USSR reached several important milestones, such as the first craft on the Moon (Luna 2)[217] the first human in space (Yuri Gagarin).,[218] and the first spacewalk (Alexey Leonov on Voskhod 2).[219] The U.S.\n",
      "\n",
      "🗓 1962\n",
      " - Between 1956 and 1962, almost 20 African countries achieved their independence from France.[180] Through the efforts of Amílcar Cabral and others, the Portuguese colonies of Guinea-Bissau, Cape Verde, Angola, Mozambique and São Tomé and Príncipe followed suit and achieved independence during the mid-1970s, in what was to be the last important wave of African decolonization.[181]\n",
      "In 1946, there were 35 member states in the United Nations, but as the newly independent nations joined the organization, by 1970 membership increased to 127.[182]\n",
      "The emergence of newly independent countries in Africa and Asia that used the borders of the imperial partitions later led to further conflict.[183] In many cases this meant that historically antagonistic ethnic or religious groups now needed to share the same country or that several nations held territorial claims over regions which were more or less arbitrarily divided by European powers.[184][185] Some conflicts which aroused from these tensions, especially the Nigerian Civil War, the Second Congo War, the Second Sudanese Civil War and the Bangladesh Liberation War have been among the bloodiest wars of the 20th century.[186]\n",
      "During the Yalta Conference, where the Western, capitalist powers, and the communist Soviet Union agreed on separate spheres of influence in Europe, they set up the stage for a geopolitical rivalry that would dominate international relations for the next five decades.[187] In March 1946, Winston Churchill gave a now famous speech while visiting Westminster College in the US which is usually credited as the first use of the term Iron Curtain to refer to the separation of Soviet and Western areas of influence in Europe:[188]\n",
      "From Stettin in the Baltic to Trieste in the Adriatic an iron curtain has descended across the Continent.\n",
      "\n",
      "🗓 1968\n",
      " - Eventually, nine nations would overtly develop nuclear weapons, and still maintain stockpiles today: the United States, the Soviet Union (and later Russia would inherit these), the United Kingdom, France, China, India, Pakistan, Israel and North Korea.[159] South Africa developed six crude weapons in the 1980s (which it later dismantled),[160] and Israel almost certainly developed nuclear weapons though it never confirmed nor denied it.[161] The creation of the Nuclear Non-proliferation Treaty in 1968 was an attempt to curtail such proliferation,[162] but a number of countries developed nuclear weapons since it was signed (and many did not sign it), and several other countries, including Libya and Iran were suspected of having clandestine nuclear weapons programs.[163][164]\n",
      "Following World War II, the majority of the industrialized world lay in ruins as a result of aerial bombings, naval bombardment, and protracted land campaigns.\n",
      " - This was achieved in 1947 with the end of British rule in India and the Partition of the territory into modern-day India and Pakistan, which would later also further divide, leading to the creation of the People's Republic of Bangladesh in 1971.[175][176] Elsewhere in Asia, The United States granted independence to the Philippines, its major Pacific possession in 1946.[177] In French Indochina, armed insurrections forced the French out in the early 1950s, leading to the formation of Laos, Cambodia and Vietnam.[178]\n",
      "In Africa, nationalists such as Jomo Kenyatta of Kenya and Kwame Nkrumah of Ghana led their respective nations to independence from foreign rule.[179] Mere decades before, the British Empire controlled almost half of the continent, but by 1968, the only British possession in Africa was Seychelles (which would also become independent in 1976).\n",
      "\n",
      "🗓 1969\n",
      " - pulled ahead eventually with its Mercury, Gemini, and Apollo programs, which culminated in Apollo 11 astronauts landing on the Moon on 20 July 1969.[220] Five more landings with astronauts followed (Apollo 13 was forced to abort its mission).[221] Nevertheless, despite its successes, the U.S.\n",
      "\n",
      "🗓 1970\n",
      " - Between 1956 and 1962, almost 20 African countries achieved their independence from France.[180] Through the efforts of Amílcar Cabral and others, the Portuguese colonies of Guinea-Bissau, Cape Verde, Angola, Mozambique and São Tomé and Príncipe followed suit and achieved independence during the mid-1970s, in what was to be the last important wave of African decolonization.[181]\n",
      "In 1946, there were 35 member states in the United Nations, but as the newly independent nations joined the organization, by 1970 membership increased to 127.[182]\n",
      "The emergence of newly independent countries in Africa and Asia that used the borders of the imperial partitions later led to further conflict.[183] In many cases this meant that historically antagonistic ethnic or religious groups now needed to share the same country or that several nations held territorial claims over regions which were more or less arbitrarily divided by European powers.[184][185] Some conflicts which aroused from these tensions, especially the Nigerian Civil War, the Second Congo War, the Second Sudanese Civil War and the Bangladesh Liberation War have been among the bloodiest wars of the 20th century.[186]\n",
      "During the Yalta Conference, where the Western, capitalist powers, and the communist Soviet Union agreed on separate spheres of influence in Europe, they set up the stage for a geopolitical rivalry that would dominate international relations for the next five decades.[187] In March 1946, Winston Churchill gave a now famous speech while visiting Westminster College in the US which is usually credited as the first use of the term Iron Curtain to refer to the separation of Soviet and Western areas of influence in Europe:[188]\n",
      "From Stettin in the Baltic to Trieste in the Adriatic an iron curtain has descended across the Continent.\n",
      "\n",
      "🗓 1971\n",
      " - This was achieved in 1947 with the end of British rule in India and the Partition of the territory into modern-day India and Pakistan, which would later also further divide, leading to the creation of the People's Republic of Bangladesh in 1971.[175][176] Elsewhere in Asia, The United States granted independence to the Philippines, its major Pacific possession in 1946.[177] In French Indochina, armed insurrections forced the French out in the early 1950s, leading to the formation of Laos, Cambodia and Vietnam.[178]\n",
      "In Africa, nationalists such as Jomo Kenyatta of Kenya and Kwame Nkrumah of Ghana led their respective nations to independence from foreign rule.[179] Mere decades before, the British Empire controlled almost half of the continent, but by 1968, the only British possession in Africa was Seychelles (which would also become independent in 1976).\n",
      "\n",
      "🗓 1975\n",
      " - Saigon was captured on 30 April 1975, and Vietnam was unified under Communist rule a year later, effectively bringing an end to one of the most unpopular wars of all time.[210][211]\n",
      "The Cuban Missile Crisis illustrates just how close to the brink of nuclear war the world came during the Cold War.\n",
      "\n",
      "🗓 1976\n",
      " - This was achieved in 1947 with the end of British rule in India and the Partition of the territory into modern-day India and Pakistan, which would later also further divide, leading to the creation of the People's Republic of Bangladesh in 1971.[175][176] Elsewhere in Asia, The United States granted independence to the Philippines, its major Pacific possession in 1946.[177] In French Indochina, armed insurrections forced the French out in the early 1950s, leading to the formation of Laos, Cambodia and Vietnam.[178]\n",
      "In Africa, nationalists such as Jomo Kenyatta of Kenya and Kwame Nkrumah of Ghana led their respective nations to independence from foreign rule.[179] Mere decades before, the British Empire controlled almost half of the continent, but by 1968, the only British possession in Africa was Seychelles (which would also become independent in 1976).\n",
      "\n",
      "🗓 1990\n",
      " - Berlin, although in Soviet-controlled territory, was also divided among the four powers.[167] Occupation of Berlin would continue until 1990.\n",
      "\n",
      "🗓 1991\n",
      " - Boris Yeltsin, president of Russia, organized mass opposition, and the coup failed.[234] On 26 December 1991, the Soviet Union was officially disbanded into its constituent republics, thus putting a final line under the already exhausted Cold War.[235]\n",
      "The creation of the transistor revolutionized the development of the computer.\n",
      "\n",
      "🗓 1999\n",
      " - Like the threat of a nuclear world war, the shift of climate change has since added to the fear of the possibility of human extinction, although not overnight but over several decades.[273] This prompted many nations to negotiate and sign the Kyoto treaty, which set mandatory limits on carbon dioxide emissions.[274]\n",
      "The celebration of the 20th century’s ending expressed the popular opinion that New Year's Eve 1999 and New Year's Day 2000 marked the turn of the millennium, while strictly speaking the 20th century ended on New Year's Eve 2000 and the 21st century began on New Year's Day 2001.\n",
      "\n",
      "🗓 2000\n",
      " - Like the threat of a nuclear world war, the shift of climate change has since added to the fear of the possibility of human extinction, although not overnight but over several decades.[273] This prompted many nations to negotiate and sign the Kyoto treaty, which set mandatory limits on carbon dioxide emissions.[274]\n",
      "The celebration of the 20th century’s ending expressed the popular opinion that New Year's Eve 1999 and New Year's Day 2000 marked the turn of the millennium, while strictly speaking the 20th century ended on New Year's Eve 2000 and the 21st century began on New Year's Day 2001.\n",
      " - Like the threat of a nuclear world war, the shift of climate change has since added to the fear of the possibility of human extinction, although not overnight but over several decades.[273] This prompted many nations to negotiate and sign the Kyoto treaty, which set mandatory limits on carbon dioxide emissions.[274]\n",
      "The celebration of the 20th century’s ending expressed the popular opinion that New Year's Eve 1999 and New Year's Day 2000 marked the turn of the millennium, while strictly speaking the 20th century ended on New Year's Eve 2000 and the 21st century began on New Year's Day 2001.\n",
      "\n",
      "🗓 2001\n",
      " - Like the threat of a nuclear world war, the shift of climate change has since added to the fear of the possibility of human extinction, although not overnight but over several decades.[273] This prompted many nations to negotiate and sign the Kyoto treaty, which set mandatory limits on carbon dioxide emissions.[274]\n",
      "The celebration of the 20th century’s ending expressed the popular opinion that New Year's Eve 1999 and New Year's Day 2000 marked the turn of the millennium, while strictly speaking the 20th century ended on New Year's Eve 2000 and the 21st century began on New Year's Day 2001.\n"
     ]
    }
   ],
   "source": [
    "import re\n",
    "from collections import defaultdict\n",
    "\n",
    "# Load the article content\n",
    "with open(\"20th_century_events.txt\", \"r\", encoding=\"utf-8\") as file:\n",
    "    text = file.read()\n",
    "\n",
    "# Create dictionary to group events by year\n",
    "years_dict = defaultdict(list)\n",
    "\n",
    "# Regex pattern for 4-digit years\n",
    "year_pattern = r'\\b(1[0-9]{3}|20[0-9]{2})\\b'\n",
    "\n",
    "# Split the text into sentences\n",
    "sentences = re.split(r'(?<=\\.|\\?|!)\\s+', text)\n",
    "\n",
    "# Loop through sentences and collect years\n",
    "for sentence in sentences:\n",
    "    years_found = re.findall(year_pattern, sentence)\n",
    "    for year in years_found:\n",
    "        years_dict[year].append(sentence.strip())\n",
    "\n",
    "# Display grouped events\n",
    "for year in sorted(years_dict.keys()):\n",
    "    print(f\"\\n🗓 {year}\")\n",
    "    for event in years_dict[year]:\n",
    "        print(f\" - {event}\")\n"
   ]
  },
  {
   "cell_type": "code",
   "execution_count": 1,
   "id": "fea77624-52d7-4f7d-b10f-b52066b20960",
   "metadata": {},
   "outputs": [
    {
     "name": "stdout",
     "output_type": "stream",
     "text": [
      "🧽 Cleaned text saved successfully!\n"
     ]
    }
   ],
   "source": [
    "import re\n",
    "\n",
    "# Let's say this is your raw scraped text\n",
    "with open('20th_century_events.txt', 'r', encoding='utf-8') as f:\n",
    "    raw_text = f.read()\n",
    "\n",
    "# Remove citations like [144], [26], etc.\n",
    "clean_text = re.sub(r'\\[\\d+\\]', '', raw_text)\n",
    "\n",
    "# Remove non-ASCII characters (like corrupted characters or special symbols)\n",
    "clean_text = re.sub(r'[^\\x00-\\x7F]+', '', clean_text)\n",
    "\n",
    "# Optional: remove excessive whitespace\n",
    "clean_text = re.sub(r'\\s+', ' ', clean_text).strip()\n",
    "\n",
    "# Save to a new file (optional)\n",
    "with open('cleaned_20th_century_events.txt', 'w', encoding='utf-8') as f:\n",
    "    f.write(clean_text)\n",
    "\n",
    "print(\"🧽 Cleaned text saved successfully!\")\n"
   ]
  },
  {
   "cell_type": "code",
   "execution_count": 2,
   "id": "75b29712-7db5-4185-9fe2-01a73a16d547",
   "metadata": {},
   "outputs": [],
   "source": [
    "# Load cleaned text\n",
    "with open(\"cleaned_20th_century_events.txt\", \"r\") as file:\n",
    "    cleaned_text = file.read()\n",
    "\n",
    "# Optional: use regex to split based on sentence enders\n",
    "import re\n",
    "sentences = re.split(r'(?<=[.!?])\\s+', cleaned_text.strip())\n",
    "\n",
    "# Save it back with line breaks\n",
    "with open(\"formatted_cleaned_20th_century_events.txt\", \"w\") as file:\n",
    "    for sentence in sentences:\n",
    "        file.write(sentence.strip() + '\\n')\n"
   ]
  },
  {
   "cell_type": "markdown",
   "id": "cb98b436-9639-4196-b025-f6a22ad0c44f",
   "metadata": {},
   "source": [
    "---\n",
    "\n",
    "## ✨ BONUS TASK: Alternate Country List Scraper from UN Page\n",
    "\n",
    "To push myself further, I attempted a second scraping approach using the Wikipedia page titled  \n",
    "**\"List of countries by population (United Nations)\"**.  \n",
    "This demonstrates flexibility in working with multiple page structures, such as HTML tables.\n",
    "\n",
    "**Objective:**  \n",
    "Scrape country names from a structured table instead of an unordered list (`<ul>`),  \n",
    "then clean, sort, and present them neatly in both notebook and `.txt` format.\n",
    "\n",
    "---\n"
   ]
  },
  {
   "cell_type": "code",
   "execution_count": 50,
   "id": "9c7f03bc-e84d-420b-9d9f-15c57a73be5f",
   "metadata": {},
   "outputs": [
    {
     "data": {
      "text/markdown": [
       "### 🌍 List of Scraped Countries:\n",
       "1. Afghanistan\n",
       "2. Albania\n",
       "3. Algeria\n",
       "4. American Samoa (United States)\n",
       "5. Andorra\n",
       "6. Angola\n",
       "7. Anguilla (United Kingdom)\n",
       "8. Antigua and Barbuda\n",
       "9. Argentina\n",
       "10. Armenia\n",
       "11. Aruba (Netherlands)\n",
       "12. Australia[f]\n",
       "13. Austria\n",
       "14. Azerbaijan\n",
       "15. Bahamas\n",
       "16. Bahrain\n",
       "17. Bangladesh\n",
       "18. Barbados\n",
       "19. Belarus\n",
       "20. Belgium\n",
       "21. Belize\n",
       "22. Benin\n",
       "23. Bermuda (United Kingdom)\n",
       "24. Bhutan\n",
       "25. Bolivia\n",
       "26. Bosnia and Herzegovina\n",
       "27. Botswana\n",
       "28. Brazil\n",
       "29. British Virgin Islands (United Kingdom)\n",
       "30. Brunei\n",
       "31. Bulgaria\n",
       "32. Burkina Faso\n",
       "33. Burundi\n",
       "34. Cambodia\n",
       "35. Cameroon\n",
       "36. Canada\n",
       "37. Cape Verde\n",
       "38. Caribbean Netherlands (Netherlands)[v]\n",
       "39. Cayman Islands (United Kingdom)\n",
       "40. Central African Republic\n",
       "41. Chad\n",
       "42. Chile\n",
       "43. China[a]\n",
       "44. Colombia\n",
       "45. Comoros\n",
       "46. Congo\n",
       "47. Cook Islands (New Zealand)\n",
       "48. Costa Rica\n",
       "49. Croatia\n",
       "50. Cuba\n",
       "51. Curaçao (Netherlands)\n",
       "52. Cyprus[s]\n",
       "53. Czechia\n",
       "54. DR Congo\n",
       "55. Denmark\n",
       "56. Djibouti\n",
       "57. Dominica\n",
       "58. Dominican Republic\n",
       "59. Ecuador\n",
       "60. Egypt\n",
       "61. El Salvador\n",
       "62. Equatorial Guinea\n",
       "63. Eritrea\n",
       "64. Estonia\n",
       "65. Eswatini\n",
       "66. Ethiopia\n",
       "67. Falkland Islands (United Kingdom)\n",
       "68. Faroe Islands (Denmark)\n",
       "69. Fiji\n",
       "70. Finland[m]\n",
       "71. France[c]\n",
       "72. French Guiana (France)\n",
       "73. French Polynesia (France)\n",
       "74. Gabon\n",
       "75. Gambia\n",
       "76. Georgia[p]\n",
       "77. Germany\n",
       "78. Ghana\n",
       "79. Gibraltar (United Kingdom)\n",
       "80. Greece\n",
       "81. Greenland (Denmark)\n",
       "82. Grenada\n",
       "83. Guadeloupe (France)\n",
       "84. Guam (United States)\n",
       "85. Guatemala\n",
       "86. Guernsey (United Kingdom)\n",
       "87. Guinea\n",
       "88. Guinea-Bissau\n",
       "89. Guyana\n",
       "90. Haiti\n",
       "91. Honduras\n",
       "92. Hong Kong (China)[k]\n",
       "93. Hungary\n",
       "94. Iceland\n",
       "95. India\n",
       "96. Indonesia\n",
       "97. Iran\n",
       "98. Iraq\n",
       "99. Ireland\n",
       "100. Isle of Man (United Kingdom)\n",
       "101. Israel\n",
       "102. Italy\n",
       "103. Ivory Coast\n",
       "104. Jamaica\n",
       "105. Japan\n",
       "106. Jersey (United Kingdom)\n",
       "107. Jordan\n",
       "108. Kazakhstan\n",
       "109. Kenya\n",
       "110. Kiribati\n",
       "111. Kosovo[r]\n",
       "112. Kuwait\n",
       "113. Kyrgyzstan\n",
       "114. Laos\n",
       "115. Latvia\n",
       "116. Lebanon\n",
       "117. Lesotho\n",
       "118. Liberia\n",
       "119. Libya\n",
       "120. Liechtenstein\n",
       "121. Lithuania\n",
       "122. Luxembourg\n",
       "123. Macao (China)[t]\n",
       "124. Madagascar\n",
       "125. Malawi\n",
       "126. Malaysia\n",
       "127. Maldives\n",
       "128. Mali\n",
       "129. Malta\n",
       "130. Marshall Islands\n",
       "131. Martinique (France)\n",
       "132. Mauritania\n",
       "133. Mauritius\n",
       "134. Mayotte (France)\n",
       "135. Mexico\n",
       "136. Micronesia\n",
       "137. Moldova[q]\n",
       "138. Monaco\n",
       "139. Mongolia\n",
       "140. Montenegro\n",
       "141. Montserrat (United Kingdom)\n",
       "142. Morocco\n",
       "143. Mozambique\n",
       "144. Myanmar\n",
       "145. Namibia\n",
       "146. Nauru\n",
       "147. Nepal\n",
       "148. Netherlands[i]\n",
       "149. New Caledonia (France)\n",
       "150. New Zealand\n",
       "151. Nicaragua\n",
       "152. Niger\n",
       "153. Nigeria\n",
       "154. Niue (New Zealand)\n",
       "155. North Korea\n",
       "156. North Macedonia\n",
       "157. Northern Mariana Islands (United States)\n",
       "158. Norway[n]\n",
       "159. Oman\n",
       "160. Pakistan\n",
       "161. Palau\n",
       "162. Palestine[o]\n",
       "163. Panama\n",
       "164. Papua New Guinea\n",
       "165. Paraguay\n",
       "166. Peru\n",
       "167. Philippines\n",
       "168. Poland\n",
       "169. Portugal[j]\n",
       "170. Puerto Rico (United States)\n",
       "171. Qatar\n",
       "172. Romania\n",
       "173. Russia\n",
       "174. Rwanda\n",
       "175. Réunion (France)\n",
       "176. Saint Barthélemy (France)\n",
       "177. Saint Helena (United Kingdom)[w]\n",
       "178. Saint Kitts and Nevis\n",
       "179. Saint Lucia\n",
       "180. Saint Martin (France)\n",
       "181. Saint Pierre and Miquelon (France)\n",
       "182. Saint Vincent and the Grenadines\n",
       "183. Samoa\n",
       "184. San Marino\n",
       "185. Saudi Arabia\n",
       "186. Senegal\n",
       "187. Serbia[l]\n",
       "188. Seychelles\n",
       "189. Sierra Leone\n",
       "190. Singapore\n",
       "191. Sint Maarten (Netherlands)\n",
       "192. Slovakia\n",
       "193. Slovenia\n",
       "194. Solomon Islands\n",
       "195. Somalia[h]\n",
       "196. South Africa\n",
       "197. South Korea\n",
       "198. South Sudan\n",
       "199. Spain[d]\n",
       "200. Sri Lanka\n",
       "201. Sudan\n",
       "202. Suriname\n",
       "203. Sweden\n",
       "204. Switzerland\n",
       "205. Syria\n",
       "206. São Tomé and Príncipe\n",
       "207. Taiwan[g]\n",
       "208. Tajikistan\n",
       "209. Tanzania[b]\n",
       "210. Thailand\n",
       "211. Timor-Leste\n",
       "212. Togo\n",
       "213. Tokelau (New Zealand)\n",
       "214. Tonga\n",
       "215. Trinidad and Tobago\n",
       "216. Tunisia\n",
       "217. Turkey\n",
       "218. Turkmenistan\n",
       "219. Turks and Caicos Islands (United Kingdom)\n",
       "220. Tuvalu\n",
       "221. U.S. Virgin Islands (United States)\n",
       "222. Uganda\n",
       "223. Ukraine[e]\n",
       "224. United Arab Emirates\n",
       "225. United Kingdom\n",
       "226. United States\n",
       "227. Uruguay\n",
       "228. Uzbekistan\n",
       "229. Vanuatu\n",
       "230. Vatican City[x]\n",
       "231. Venezuela\n",
       "232. Vietnam\n",
       "233. Wallis and Futuna (France)\n",
       "234. Western Sahara (disputed)[u]\n",
       "235. World\n",
       "236. Yemen\n",
       "237. Zambia\n",
       "238. Zimbabwe"
      ],
      "text/plain": [
       "<IPython.core.display.Markdown object>"
      ]
     },
     "metadata": {},
     "output_type": "display_data"
    }
   ],
   "source": [
    "import requests\n",
    "from bs4 import BeautifulSoup\n",
    "from IPython.display import Markdown, display\n",
    "\n",
    "# Step 1: Use Wikipedia page\n",
    "url = \"https://en.wikipedia.org/wiki/List_of_countries_by_population_(United_Nations)\"\n",
    "response = requests.get(url)\n",
    "soup = BeautifulSoup(response.text, \"html.parser\")\n",
    "\n",
    "# Step 2: Find the main table\n",
    "table = soup.find(\"table\", class_=\"wikitable\")\n",
    "\n",
    "# Step 3: Extract country names\n",
    "countries = []\n",
    "for row in table.find_all(\"tr\")[1:]:\n",
    "    cols = row.find_all(\"td\")\n",
    "    if cols:\n",
    "        country_name = cols[0].text.strip()\n",
    "        countries.append(country_name)\n",
    "\n",
    "# Step 4: Clean + sort\n",
    "countries = sorted(set(countries))\n",
    "\n",
    "# Step 5: Display in notebook\n",
    "markdown_output = \"### 🌍 List of Scraped Countries:\\n\" + \"\\n\".join([f\"{i+1}. {country}\" for i, country in enumerate(countries)])\n",
    "display(Markdown(markdown_output))\n",
    "\n",
    "# Save to txt\n",
    "with open(\"countries_list.txt\", \"w\") as f:\n",
    "    for c in countries:\n",
    "        f.write(c + \"\\n\")\n"
   ]
  },
  {
   "cell_type": "code",
   "execution_count": 32,
   "id": "12118d76-1323-42ff-870f-2044a314131b",
   "metadata": {},
   "outputs": [],
   "source": [
    "import re\n",
    "\n",
    "# Clean out footnote markers like [f]\n",
    "countries = [re.sub(r\"\\[.*?\\]\", \"\", c).strip() for c in countries]\n"
   ]
  },
  {
   "cell_type": "code",
   "execution_count": 33,
   "id": "fb54efca-a4fe-47ba-9077-cd92743d24f1",
   "metadata": {},
   "outputs": [],
   "source": [
    "import re\n",
    "\n",
    "cleaned_countries = []\n",
    "for c in countries:\n",
    "    c = re.sub(r\"\\[.*?\\]\", \"\", c)  # remove footnote markers like [f], [note 1], etc.\n",
    "    c = re.sub(r\"\\s*\\(.*?\\)\", \"\", c)  # remove parentheses like (United Kingdom)\n",
    "    c = re.sub(r\"\\s{2,}\", \" \", c)  # reduce multiple spaces to single space\n",
    "    c = c.strip()  # remove leading/trailing spaces\n",
    "    if c and c[0].isalpha() and len(c) > 2:  # skip any remaining junk\n",
    "        cleaned_countries.append(c)\n",
    "\n",
    "countries = sorted(set(cleaned_countries))\n"
   ]
  },
  {
   "cell_type": "code",
   "execution_count": 34,
   "id": "1c2a8d09-392b-4c65-8a1c-168dd8064cac",
   "metadata": {},
   "outputs": [],
   "source": [
    "import re\n",
    "\n",
    "cleaned_countries = []\n",
    "for c in countries:\n",
    "    c = re.sub(r\"\\[.*?\\]\", \"\", c)         # Remove things like [w], [d], etc.\n",
    "    c = re.sub(r\"\\s*\\(.*?\\)\", \"\", c)      # Remove (France), (UK), etc.\n",
    "    c = re.sub(r\"\\s{2,}\", \" \", c)         # Remove double spaces\n",
    "    c = c.strip()\n",
    "    if c and c[0].isalpha() and len(c) > 2:\n",
    "        cleaned_countries.append(c)\n",
    "\n",
    "countries = sorted(set(cleaned_countries))\n"
   ]
  },
  {
   "cell_type": "code",
   "execution_count": 35,
   "id": "ee84cf43-2627-4948-9384-d11340bc76aa",
   "metadata": {},
   "outputs": [],
   "source": [
    "import re\n",
    "\n",
    "# Full clean-up\n",
    "cleaned_countries = []\n",
    "for c in countries:\n",
    "    c = re.sub(r\"\\[.*?\\]\", \"\", c)              # Remove [w], [d], [e], etc.\n",
    "    c = re.sub(r\"\\(.*?\\)\", \"\", c)              # Remove (France), (disputed), etc.\n",
    "    c = re.sub(r\"\\s{2,}\", \" \", c)              # Remove double spaces\n",
    "    c = c.strip()                              # Remove leading/trailing whitespace\n",
    "    if c and c[0].isalpha() and len(c) > 2:    # Keep valid names\n",
    "        cleaned_countries.append(c)\n",
    "\n",
    "countries = sorted(set(cleaned_countries))     # Deduplicate and sort\n"
   ]
  },
  {
   "cell_type": "code",
   "execution_count": 41,
   "id": "2b53b74a-477d-4b09-80d6-9fb4caac423e",
   "metadata": {},
   "outputs": [
    {
     "data": {
      "text/markdown": [
       "### 🌍 List of Scraped Countries:\n",
       "\n",
       "&nbsp;&nbsp;&nbsp;1. Afghanistan\n",
       "&nbsp;&nbsp;&nbsp;2. Albania\n",
       "&nbsp;&nbsp;&nbsp;3. Algeria\n",
       "&nbsp;&nbsp;&nbsp;4. American Samoa\n",
       "&nbsp;&nbsp;&nbsp;5. Andorra\n",
       "&nbsp;&nbsp;&nbsp;6. Angola\n",
       "&nbsp;&nbsp;&nbsp;7. Anguilla\n",
       "&nbsp;&nbsp;&nbsp;8. Antigua and Barbuda\n",
       "&nbsp;&nbsp;&nbsp;9. Argentina\n",
       "&nbsp;&nbsp;&nbsp;10. Armenia\n",
       "&nbsp;&nbsp;&nbsp;11. Aruba\n",
       "&nbsp;&nbsp;&nbsp;12. Australia\n",
       "&nbsp;&nbsp;&nbsp;13. Austria\n",
       "&nbsp;&nbsp;&nbsp;14. Azerbaijan\n",
       "&nbsp;&nbsp;&nbsp;15. Bahamas\n",
       "&nbsp;&nbsp;&nbsp;16. Bahrain\n",
       "&nbsp;&nbsp;&nbsp;17. Bangladesh\n",
       "&nbsp;&nbsp;&nbsp;18. Barbados\n",
       "&nbsp;&nbsp;&nbsp;19. Belarus\n",
       "&nbsp;&nbsp;&nbsp;20. Belgium\n",
       "&nbsp;&nbsp;&nbsp;21. Belize\n",
       "&nbsp;&nbsp;&nbsp;22. Benin\n",
       "&nbsp;&nbsp;&nbsp;23. Bermuda\n",
       "&nbsp;&nbsp;&nbsp;24. Bhutan\n",
       "&nbsp;&nbsp;&nbsp;25. Bolivia\n",
       "&nbsp;&nbsp;&nbsp;26. Bosnia and Herzegovina\n",
       "&nbsp;&nbsp;&nbsp;27. Botswana\n",
       "&nbsp;&nbsp;&nbsp;28. Brazil\n",
       "&nbsp;&nbsp;&nbsp;29. British Virgin Islands\n",
       "&nbsp;&nbsp;&nbsp;30. Brunei\n",
       "&nbsp;&nbsp;&nbsp;31. Bulgaria\n",
       "&nbsp;&nbsp;&nbsp;32. Burkina Faso\n",
       "&nbsp;&nbsp;&nbsp;33. Burundi\n",
       "&nbsp;&nbsp;&nbsp;34. Cambodia\n",
       "&nbsp;&nbsp;&nbsp;35. Cameroon\n",
       "&nbsp;&nbsp;&nbsp;36. Canada\n",
       "&nbsp;&nbsp;&nbsp;37. Cape Verde\n",
       "&nbsp;&nbsp;&nbsp;38. Caribbean Netherlands\n",
       "&nbsp;&nbsp;&nbsp;39. Cayman Islands\n",
       "&nbsp;&nbsp;&nbsp;40. Central African Republic\n",
       "&nbsp;&nbsp;&nbsp;41. Chad\n",
       "&nbsp;&nbsp;&nbsp;42. Chile\n",
       "&nbsp;&nbsp;&nbsp;43. China\n",
       "&nbsp;&nbsp;&nbsp;44. Colombia\n",
       "&nbsp;&nbsp;&nbsp;45. Comoros\n",
       "&nbsp;&nbsp;&nbsp;46. Congo\n",
       "&nbsp;&nbsp;&nbsp;47. Cook Islands\n",
       "&nbsp;&nbsp;&nbsp;48. Costa Rica\n",
       "&nbsp;&nbsp;&nbsp;49. Croatia\n",
       "&nbsp;&nbsp;&nbsp;50. Cuba\n",
       "&nbsp;&nbsp;&nbsp;51. Curaçao\n",
       "&nbsp;&nbsp;&nbsp;52. Cyprus\n",
       "&nbsp;&nbsp;&nbsp;53. Czechia\n",
       "&nbsp;&nbsp;&nbsp;54. DR Congo\n",
       "&nbsp;&nbsp;&nbsp;55. Denmark\n",
       "&nbsp;&nbsp;&nbsp;56. Djibouti\n",
       "&nbsp;&nbsp;&nbsp;57. Dominica\n",
       "&nbsp;&nbsp;&nbsp;58. Dominican Republic\n",
       "&nbsp;&nbsp;&nbsp;59. Ecuador\n",
       "&nbsp;&nbsp;&nbsp;60. Egypt\n",
       "&nbsp;&nbsp;&nbsp;61. El Salvador\n",
       "&nbsp;&nbsp;&nbsp;62. Equatorial Guinea\n",
       "&nbsp;&nbsp;&nbsp;63. Eritrea\n",
       "&nbsp;&nbsp;&nbsp;64. Estonia\n",
       "&nbsp;&nbsp;&nbsp;65. Eswatini\n",
       "&nbsp;&nbsp;&nbsp;66. Ethiopia\n",
       "&nbsp;&nbsp;&nbsp;67. Falkland Islands\n",
       "&nbsp;&nbsp;&nbsp;68. Faroe Islands\n",
       "&nbsp;&nbsp;&nbsp;69. Fiji\n",
       "&nbsp;&nbsp;&nbsp;70. Finland\n",
       "&nbsp;&nbsp;&nbsp;71. France\n",
       "&nbsp;&nbsp;&nbsp;72. French Guiana\n",
       "&nbsp;&nbsp;&nbsp;73. French Polynesia\n",
       "&nbsp;&nbsp;&nbsp;74. Gabon\n",
       "&nbsp;&nbsp;&nbsp;75. Gambia\n",
       "&nbsp;&nbsp;&nbsp;76. Georgia\n",
       "&nbsp;&nbsp;&nbsp;77. Germany\n",
       "&nbsp;&nbsp;&nbsp;78. Ghana\n",
       "&nbsp;&nbsp;&nbsp;79. Gibraltar\n",
       "&nbsp;&nbsp;&nbsp;80. Greece\n",
       "&nbsp;&nbsp;&nbsp;81. Greenland\n",
       "&nbsp;&nbsp;&nbsp;82. Grenada\n",
       "&nbsp;&nbsp;&nbsp;83. Guadeloupe\n",
       "&nbsp;&nbsp;&nbsp;84. Guam\n",
       "&nbsp;&nbsp;&nbsp;85. Guatemala\n",
       "&nbsp;&nbsp;&nbsp;86. Guernsey\n",
       "&nbsp;&nbsp;&nbsp;87. Guinea\n",
       "&nbsp;&nbsp;&nbsp;88. Guinea-Bissau\n",
       "&nbsp;&nbsp;&nbsp;89. Guyana\n",
       "&nbsp;&nbsp;&nbsp;90. Haiti\n",
       "&nbsp;&nbsp;&nbsp;91. Honduras\n",
       "&nbsp;&nbsp;&nbsp;92. Hong Kong\n",
       "&nbsp;&nbsp;&nbsp;93. Hungary\n",
       "&nbsp;&nbsp;&nbsp;94. Iceland\n",
       "&nbsp;&nbsp;&nbsp;95. India\n",
       "&nbsp;&nbsp;&nbsp;96. Indonesia\n",
       "&nbsp;&nbsp;&nbsp;97. Iran\n",
       "&nbsp;&nbsp;&nbsp;98. Iraq\n",
       "&nbsp;&nbsp;&nbsp;99. Ireland\n",
       "&nbsp;&nbsp;&nbsp;100. Isle of Man\n",
       "&nbsp;&nbsp;&nbsp;101. Israel\n",
       "&nbsp;&nbsp;&nbsp;102. Italy\n",
       "&nbsp;&nbsp;&nbsp;103. Ivory Coast\n",
       "&nbsp;&nbsp;&nbsp;104. Jamaica\n",
       "&nbsp;&nbsp;&nbsp;105. Japan\n",
       "&nbsp;&nbsp;&nbsp;106. Jersey\n",
       "&nbsp;&nbsp;&nbsp;107. Jordan\n",
       "&nbsp;&nbsp;&nbsp;108. Kazakhstan\n",
       "&nbsp;&nbsp;&nbsp;109. Kenya\n",
       "&nbsp;&nbsp;&nbsp;110. Kiribati\n",
       "&nbsp;&nbsp;&nbsp;111. Kosovo\n",
       "&nbsp;&nbsp;&nbsp;112. Kuwait\n",
       "&nbsp;&nbsp;&nbsp;113. Kyrgyzstan\n",
       "&nbsp;&nbsp;&nbsp;114. Laos\n",
       "&nbsp;&nbsp;&nbsp;115. Latvia\n",
       "&nbsp;&nbsp;&nbsp;116. Lebanon\n",
       "&nbsp;&nbsp;&nbsp;117. Lesotho\n",
       "&nbsp;&nbsp;&nbsp;118. Liberia\n",
       "&nbsp;&nbsp;&nbsp;119. Libya\n",
       "&nbsp;&nbsp;&nbsp;120. Liechtenstein\n",
       "&nbsp;&nbsp;&nbsp;121. Lithuania\n",
       "&nbsp;&nbsp;&nbsp;122. Luxembourg\n",
       "&nbsp;&nbsp;&nbsp;123. Macao\n",
       "&nbsp;&nbsp;&nbsp;124. Madagascar\n",
       "&nbsp;&nbsp;&nbsp;125. Malawi\n",
       "&nbsp;&nbsp;&nbsp;126. Malaysia\n",
       "&nbsp;&nbsp;&nbsp;127. Maldives\n",
       "&nbsp;&nbsp;&nbsp;128. Mali\n",
       "&nbsp;&nbsp;&nbsp;129. Malta\n",
       "&nbsp;&nbsp;&nbsp;130. Marshall Islands\n",
       "&nbsp;&nbsp;&nbsp;131. Martinique\n",
       "&nbsp;&nbsp;&nbsp;132. Mauritania\n",
       "&nbsp;&nbsp;&nbsp;133. Mauritius\n",
       "&nbsp;&nbsp;&nbsp;134. Mayotte\n",
       "&nbsp;&nbsp;&nbsp;135. Mexico\n",
       "&nbsp;&nbsp;&nbsp;136. Micronesia\n",
       "&nbsp;&nbsp;&nbsp;137. Moldova\n",
       "&nbsp;&nbsp;&nbsp;138. Monaco\n",
       "&nbsp;&nbsp;&nbsp;139. Mongolia\n",
       "&nbsp;&nbsp;&nbsp;140. Montenegro\n",
       "&nbsp;&nbsp;&nbsp;141. Montserrat\n",
       "&nbsp;&nbsp;&nbsp;142. Morocco\n",
       "&nbsp;&nbsp;&nbsp;143. Mozambique\n",
       "&nbsp;&nbsp;&nbsp;144. Myanmar\n",
       "&nbsp;&nbsp;&nbsp;145. Namibia\n",
       "&nbsp;&nbsp;&nbsp;146. Nauru\n",
       "&nbsp;&nbsp;&nbsp;147. Nepal\n",
       "&nbsp;&nbsp;&nbsp;148. Netherlands\n",
       "&nbsp;&nbsp;&nbsp;149. New Caledonia\n",
       "&nbsp;&nbsp;&nbsp;150. New Zealand\n",
       "&nbsp;&nbsp;&nbsp;151. Nicaragua\n",
       "&nbsp;&nbsp;&nbsp;152. Niger\n",
       "&nbsp;&nbsp;&nbsp;153. Nigeria\n",
       "&nbsp;&nbsp;&nbsp;154. Niue\n",
       "&nbsp;&nbsp;&nbsp;155. North Korea\n",
       "&nbsp;&nbsp;&nbsp;156. North Macedonia\n",
       "&nbsp;&nbsp;&nbsp;157. Northern Mariana Islands\n",
       "&nbsp;&nbsp;&nbsp;158. Norway\n",
       "&nbsp;&nbsp;&nbsp;159. Oman\n",
       "&nbsp;&nbsp;&nbsp;160. Pakistan\n",
       "&nbsp;&nbsp;&nbsp;161. Palau\n",
       "&nbsp;&nbsp;&nbsp;162. Palestine\n",
       "&nbsp;&nbsp;&nbsp;163. Panama\n",
       "&nbsp;&nbsp;&nbsp;164. Papua New Guinea\n",
       "&nbsp;&nbsp;&nbsp;165. Paraguay\n",
       "&nbsp;&nbsp;&nbsp;166. Peru\n",
       "&nbsp;&nbsp;&nbsp;167. Philippines\n",
       "&nbsp;&nbsp;&nbsp;168. Poland\n",
       "&nbsp;&nbsp;&nbsp;169. Portugal\n",
       "&nbsp;&nbsp;&nbsp;170. Puerto Rico\n",
       "&nbsp;&nbsp;&nbsp;171. Qatar\n",
       "&nbsp;&nbsp;&nbsp;172. Romania\n",
       "&nbsp;&nbsp;&nbsp;173. Russia\n",
       "&nbsp;&nbsp;&nbsp;174. Rwanda\n",
       "&nbsp;&nbsp;&nbsp;175. Réunion\n",
       "&nbsp;&nbsp;&nbsp;176. Saint Barthélemy\n",
       "&nbsp;&nbsp;&nbsp;177. Saint Helena\n",
       "&nbsp;&nbsp;&nbsp;178. Saint Kitts and Nevis\n",
       "&nbsp;&nbsp;&nbsp;179. Saint Lucia\n",
       "&nbsp;&nbsp;&nbsp;180. Saint Martin\n",
       "&nbsp;&nbsp;&nbsp;181. Saint Pierre and Miquelon\n",
       "&nbsp;&nbsp;&nbsp;182. Saint Vincent and the Grenadines\n",
       "&nbsp;&nbsp;&nbsp;183. Samoa\n",
       "&nbsp;&nbsp;&nbsp;184. San Marino\n",
       "&nbsp;&nbsp;&nbsp;185. Saudi Arabia\n",
       "&nbsp;&nbsp;&nbsp;186. Senegal\n",
       "&nbsp;&nbsp;&nbsp;187. Serbia\n",
       "&nbsp;&nbsp;&nbsp;188. Seychelles\n",
       "&nbsp;&nbsp;&nbsp;189. Sierra Leone\n",
       "&nbsp;&nbsp;&nbsp;190. Singapore\n",
       "&nbsp;&nbsp;&nbsp;191. Sint Maarten\n",
       "&nbsp;&nbsp;&nbsp;192. Slovakia\n",
       "&nbsp;&nbsp;&nbsp;193. Slovenia\n",
       "&nbsp;&nbsp;&nbsp;194. Solomon Islands\n",
       "&nbsp;&nbsp;&nbsp;195. Somalia\n",
       "&nbsp;&nbsp;&nbsp;196. South Africa\n",
       "&nbsp;&nbsp;&nbsp;197. South Korea\n",
       "&nbsp;&nbsp;&nbsp;198. South Sudan\n",
       "&nbsp;&nbsp;&nbsp;199. Spain\n",
       "&nbsp;&nbsp;&nbsp;200. Sri Lanka\n",
       "&nbsp;&nbsp;&nbsp;201. Sudan\n",
       "&nbsp;&nbsp;&nbsp;202. Suriname\n",
       "&nbsp;&nbsp;&nbsp;203. Sweden\n",
       "&nbsp;&nbsp;&nbsp;204. Switzerland\n",
       "&nbsp;&nbsp;&nbsp;205. Syria\n",
       "&nbsp;&nbsp;&nbsp;206. São Tomé and Príncipe\n",
       "&nbsp;&nbsp;&nbsp;207. Taiwan\n",
       "&nbsp;&nbsp;&nbsp;208. Tajikistan\n",
       "&nbsp;&nbsp;&nbsp;209. Tanzania\n",
       "&nbsp;&nbsp;&nbsp;210. Thailand\n",
       "&nbsp;&nbsp;&nbsp;211. Timor-Leste\n",
       "&nbsp;&nbsp;&nbsp;212. Togo\n",
       "&nbsp;&nbsp;&nbsp;213. Tokelau\n",
       "&nbsp;&nbsp;&nbsp;214. Tonga\n",
       "&nbsp;&nbsp;&nbsp;215. Trinidad and Tobago\n",
       "&nbsp;&nbsp;&nbsp;216. Tunisia\n",
       "&nbsp;&nbsp;&nbsp;217. Turkey\n",
       "&nbsp;&nbsp;&nbsp;218. Turkmenistan\n",
       "&nbsp;&nbsp;&nbsp;219. Turks and Caicos Islands\n",
       "&nbsp;&nbsp;&nbsp;220. Tuvalu\n",
       "&nbsp;&nbsp;&nbsp;221. U.S. Virgin Islands\n",
       "&nbsp;&nbsp;&nbsp;222. Uganda\n",
       "&nbsp;&nbsp;&nbsp;223. Ukraine\n",
       "&nbsp;&nbsp;&nbsp;224. United Arab Emirates\n",
       "&nbsp;&nbsp;&nbsp;225. United Kingdom\n",
       "&nbsp;&nbsp;&nbsp;226. United States\n",
       "&nbsp;&nbsp;&nbsp;227. Uruguay\n",
       "&nbsp;&nbsp;&nbsp;228. Uzbekistan\n",
       "&nbsp;&nbsp;&nbsp;229. Vanuatu\n",
       "&nbsp;&nbsp;&nbsp;230. Vatican City\n",
       "&nbsp;&nbsp;&nbsp;231. Venezuela\n",
       "&nbsp;&nbsp;&nbsp;232. Vietnam\n",
       "&nbsp;&nbsp;&nbsp;233. Wallis and Futuna\n",
       "&nbsp;&nbsp;&nbsp;234. Western Sahara\n",
       "&nbsp;&nbsp;&nbsp;235. World\n",
       "&nbsp;&nbsp;&nbsp;236. Yemen\n",
       "&nbsp;&nbsp;&nbsp;237. Zambia\n",
       "&nbsp;&nbsp;&nbsp;238. Zimbabwe"
      ],
      "text/plain": [
       "<IPython.core.display.Markdown object>"
      ]
     },
     "metadata": {},
     "output_type": "display_data"
    }
   ],
   "source": [
    "# Step 5: Display nicely\n",
    "markdown_output = \"### 🌍 List of Scraped Countries:\\n\\n\"\n",
    "markdown_output += \"\\n\".join([f\"&nbsp;&nbsp;&nbsp;{i+1}. {country}\" for i, country in enumerate(countries)])\n",
    "display(Markdown(markdown_output))\n"
   ]
  },
  {
   "cell_type": "code",
   "execution_count": 45,
   "id": "a3f90200-6a4f-44d9-942e-42e95d391d7f",
   "metadata": {},
   "outputs": [],
   "source": [
    "# Save the cleaned country list to a .txt file\n",
    "with open(\"countries_list.txt\", \"w\") as f:\n",
    "    for i, country in enumerate(countries):\n",
    "       f.write(f\"{country}\\n\")\n",
    "\n"
   ]
  },
  {
   "cell_type": "code",
   "execution_count": 46,
   "id": "40ed6649-f7ca-47e0-a777-ad28ed2cd540",
   "metadata": {},
   "outputs": [],
   "source": [
    "# Step 4: Clean and sort\n",
    "countries = sorted(set(countries))\n",
    "\n",
    "# Step 6: Save to txt\n",
    "with open(\"countries_list.txt\", \"w\") as f:\n",
    "    for i, country in enumerate(countries):\n",
    "        f.write(f\"{country}\\n\")\n",
    "\n"
   ]
  },
  {
   "cell_type": "code",
   "execution_count": 48,
   "id": "b8ee1c44-1865-4cde-a24c-39cb0cee306a",
   "metadata": {},
   "outputs": [],
   "source": [
    "import re\n",
    "\n",
    "# Step 1: Remove unwanted text like brackets and notes [a], (France), etc.\n",
    "cleaned_countries = []\n",
    "for c in countries:\n",
    "    # Remove footnotes like [a], [f], [w], [x], etc.\n",
    "    c = re.sub(r\"\\[[^\\]]*\\]\", \"\", c)\n",
    "    # Optional: remove info in parentheses like (France), (UK) if needed\n",
    "    # c = re.sub(r\"\\([^)]*\\)\", \"\", c)\n",
    "    c = c.strip()\n",
    "    if c and c.lower() != 'world':  # optional: remove \"World\"\n",
    "        cleaned_countries.append(c)\n",
    "\n",
    "# Step 2: Deduplicate and sort\n",
    "cleaned_countries = sorted(set(cleaned_countries))\n",
    "\n",
    "# Step 3: Save clean list to txt\n",
    "with open(\"countries_list.txt\", \"w\") as f:\n",
    "    for i, country in enumerate(cleaned_countries):\n",
    "        f.write(f\"{country}\\n\")\n",
    "\n"
   ]
  },
  {
   "cell_type": "markdown",
   "id": "2a0d18ad-7ddf-454d-b9dd-515730b35744",
   "metadata": {},
   "source": [
    "### ✅ Bonus Task: Exporting Cleaned Country List\n",
    "\n",
    "As part of the bonus task, I created and exported a cleaned list of country names into a `.txt` file named `countries_list.txt`.\n",
    "\n",
    "**What I did:**\n",
    "- ✅ Removed reference letters (e.g., `[g]`, `[w]`, `[b]`, etc.)\n",
    "- ✅ Stripped away suffixes like `(France)`, `(United Kingdom)`, etc.\n",
    "- ✅ Sorted the countries alphabetically\n",
    "- ✅ Removed duplicates and formatting issues\n",
    "- ✅ Applied clean numbering without visual overlap\n",
    "\n",
    "The final list includes **238 countries** and is:\n",
    "- Neatly numbered  \n",
    "- Stored in a text file  \n",
    "- Displayed properly in the notebook as well\n",
    "\n",
    "This cleaned `.txt` file is now ready for use in any future project or visualization task. 📄🌍\n"
   ]
  },
  {
   "cell_type": "code",
   "execution_count": null,
   "id": "a80cedcf-7a5d-4b43-9a15-b2f2c5e4654d",
   "metadata": {},
   "outputs": [],
   "source": []
  }
 ],
 "metadata": {
  "kernelspec": {
   "display_name": "20th_century",
   "language": "python",
   "name": "20th_century"
  },
  "language_info": {
   "codemirror_mode": {
    "name": "ipython",
    "version": 3
   },
   "file_extension": ".py",
   "mimetype": "text/x-python",
   "name": "python",
   "nbconvert_exporter": "python",
   "pygments_lexer": "ipython3",
   "version": "3.10.18"
  }
 },
 "nbformat": 4,
 "nbformat_minor": 5
}
